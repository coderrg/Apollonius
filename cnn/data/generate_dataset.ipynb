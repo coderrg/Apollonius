{
 "cells": [
  {
   "cell_type": "code",
   "execution_count": 1,
   "metadata": {},
   "outputs": [],
   "source": [
    "import cv2\n",
    "import numpy as np\n",
    "import os\n",
    "import pickle\n",
    "from matplotlib import pyplot as plt\n"
   ]
  },
  {
   "cell_type": "code",
   "execution_count": 2,
   "metadata": {},
   "outputs": [
    {
     "name": "stdout",
     "output_type": "stream",
     "text": [
      "[[255 255 255 255 255 255 255 255 255 255 255 255 255 255 255]\n",
      " [255 255 255 255 255 255 255 255 255 255 255 255 255 255 255]\n",
      " [255 255 255 255 255 255 255 255 255 255 255 255 255 255 255]\n",
      " [255 255 255 255 255 255 255 255 255 255 255 255 255 255 255]\n",
      " [255 255 255 255 255 255 255 255 255 255 255 255 255 255 255]\n",
      " [255 254 255 255 255 255 255 255 255 255 248 188 166 224 255]\n",
      " [255 255 255 255 255 255 255 255 255 151  19   0   1  22  95]\n",
      " [254 255 255 254 255 255 255 255 188   1   0  23  65  70  70]\n",
      " [255 255 255 255 255 255 255 254  75   0  20  71  68  68  70]\n",
      " [255 255 255 255 255 254 255 252   9   0  58  70  70  70  72]\n",
      " [255 255 255 255 255 255 255 222   0   2  70  73  70  70  70]\n",
      " [255 255 255 255 255 255 255 213   2   0  67  68  70  70  70]\n",
      " [255 255 255 255 255 255 255 228   0   0  59  72  70  70  70]\n",
      " [255 255 255 255 255 255 255 253  18   0  50  70  70  70  70]\n",
      " [255 255 255 255 255 255 255 255  54   0  10  65  70  70  67]\n",
      " [255 255 255 255 255 255 255 253  21   0   0   4  22  20   1]\n",
      " [255 255 255 255 255 254 255 139   0   0   2   0   0   0   2]\n",
      " [255 255 255 255 255 255 196   6   1   0   0   0   0   0   0]\n",
      " [255 255 255 255 255 208  18   0   0   0   0  30  90  28  43]\n",
      " [255 255 254 255 211  20   0   0   0   0  21 229 255 255 255]] \n",
      "\n",
      "\n",
      "[[255 255 255 255 255 255 255 255 255 255 255 255 255 255 255]\n",
      " [255 255 255 255 255 255 255 255 255 255 255 255 255 255 255]\n",
      " [255 255 255 255 255 255 255 255 255 255 255 255 255 255 255]\n",
      " [255 255 255 255 255 255 255 255 255 255 255 255 255 255 255]\n",
      " [255 255 255 255 255 255 255 255 255 255 255 255 255 255 255]\n",
      " [255 254 255 255 255 255 255 255 255 255 248 190 164 224 255]\n",
      " [255 255 255 255 255 255 255 255 255 151  19   0   8  51 130]\n",
      " [254 255 255 254 255 255 255 255 188   0   0  66 174 187 187]\n",
      " [255 255 255 255 255 255 255 254  75   0  58 185 188 186 187]\n",
      " [255 255 255 255 255 254 255 252   9   0 156 187 187 187 186]\n",
      " [255 255 255 255 255 255 255 222   0   2 186 187 187 187 187]\n",
      " [255 255 255 255 255 255 255 213   0   1 178 186 187 187 187]\n",
      " [255 255 255 255 255 255 255 228   0   0 160 186 187 187 187]\n",
      " [255 255 255 255 255 255 255 253  18   0 131 187 186 187 186]\n",
      " [255 255 255 255 255 255 255 255  54   0  29 171 187 187 173]\n",
      " [255 255 255 255 255 255 255 253  21   0   0  12  63  52   9]\n",
      " [255 255 255 255 255 254 255 139   0   0   0   0   0   0   0]\n",
      " [255 255 255 255 255 255 196   6   1   0   0   1   0   1   0]\n",
      " [255 255 255 255 255 208  18   0   0   0   0  28  90  27  43]\n",
      " [255 255 254 255 211  20   0   0   0   0  21 230 255 255 255]] \n",
      "\n",
      "\n",
      "[[255 255 255 255 255 255 255 255 255 255 255 255 255 255 255]\n",
      " [255 255 255 255 255 255 255 255 255 255 255 255 255 255 255]\n",
      " [255 255 255 255 255 255 255 255 255 255 255 255 255 255 255]\n",
      " [255 255 255 255 255 255 255 255 255 255 255 255 255 255 255]\n",
      " [255 255 255 255 255 255 255 255 255 255 255 255 255 255 255]\n",
      " [255 254 255 255 255 255 255 255 255 255 248 190 164 224 255]\n",
      " [255 255 255 255 255 255 255 255 255 151  19   0   3  28 103]\n",
      " [254 255 255 254 255 255 255 255 188   2   0  33  88  94  96]\n",
      " [255 255 255 255 255 255 255 254  75   0  30  95  94  97  96]\n",
      " [255 255 255 255 255 254 255 252   9   0  80  96  96  96  96]\n",
      " [255 255 255 255 255 255 255 222   0   2  97  97  96  96  96]\n",
      " [255 255 255 255 255 255 255 213   0   2  92  97  96  96  96]\n",
      " [255 255 255 255 255 255 255 228   0   0  82  96  96  96  96]\n",
      " [255 255 255 255 255 255 255 253  18   0  68  96  97  96  97]\n",
      " [255 255 255 255 255 255 255 255  54   0  14  88  96  94  90]\n",
      " [255 255 255 255 255 255 255 253  21   0   0   5  32  27   2]\n",
      " [255 255 255 255 255 254 255 139   0   0   0   1   0   1   1]\n",
      " [255 255 255 255 255 255 196   6   1   0   0   0   0   0   0]\n",
      " [255 255 255 255 255 208  18   0   0   0   0  28  90  29  43]\n",
      " [255 255 254 255 211  20   0   0   0   0  21 228 255 255 255]] \n",
      "\n",
      "\n",
      "[[255 255 255 255 255 255 255 255 255 255 255 255 255 255 255]\n",
      " [255 255 255 255 255 255 255 255 255 255 255 255 255 255 255]\n",
      " [255 255 255 255 255 255 255 255 255 255 255 255 255 255 255]\n",
      " [255 255 255 255 255 255 255 255 255 255 255 255 255 255 255]\n",
      " [255 255 255 255 255 255 255 255 255 255 255 255 255 255 255]\n",
      " [255 254 255 255 255 255 255 255 255 255 248 190 164 224 255]\n",
      " [255 255 255 255 255 255 255 255 255 151  19   0   6  41 118]\n",
      " [254 255 255 254 255 255 255 255 188   1   0  51 136 146 146]\n",
      " [255 255 255 255 255 255 255 254  75   0  45 145 146 146 146]\n",
      " [255 255 255 255 255 254 255 252   9   0 122 146 146 146 146]\n",
      " [255 255 255 255 255 255 255 222   0   2 146 147 146 146 146]\n",
      " [255 255 255 255 255 255 255 213   0   1 140 146 146 146 146]\n",
      " [255 255 255 255 255 255 255 228   0   0 125 146 146 146 146]\n",
      " [255 255 255 255 255 255 255 253  18   0 103 146 146 146 146]\n",
      " [255 255 255 255 255 255 255 255  54   0  22 134 146 146 136]\n",
      " [255 255 255 255 255 255 255 253  21   0   0   9  49  41   6]\n",
      " [255 255 255 255 255 254 255 139   0   0   0   0   0   0   1]\n",
      " [255 255 255 255 255 255 196   6   1   0   0   1   0   1   0]\n",
      " [255 255 255 255 255 208  18   0   0   0   0  28  90  28  43]\n",
      " [255 255 254 255 211  20   0   0   0   0  21 229 255 255 255]] \n",
      "\n",
      "\n"
     ]
    },
    {
     "data": {
      "image/png": "[encoded data removed]",
      "text/plain": [
       "<Figure size 432x288 with 1 Axes>"
      ]
     },
     "metadata": {
      "needs_background": "light"
     },
     "output_type": "display_data"
    }
   ],
   "source": [
    "img = cv2.imread(os.path.join(\"endpt_dataset/endpt_imgs\", \"1.jpeg\"))\n",
    "# print(img.shape)\n",
    "img = img[355:375, 360:375]\n",
    "# img = cv2.cvtColor(img, cv2.COLOR_BGR2GRAY)\n",
    "img_gray = cv2.cvtColor(img, cv2.COLOR_BGR2GRAY)\n",
    "img_red = img[:, :, 0]\n",
    "img_green = img[:, :, 1]\n",
    "img_blue = img[:, :, 2]\n",
    "# img[:, :, 0] = img[:, :, 2]\n",
    "# img[:, :, 2] = img_blue\n",
    "plt.imshow(img)\n",
    "print(img_red, \"\\n\\n\")\n",
    "print(img_green, \"\\n\\n\")\n",
    "print(img_blue, \"\\n\\n\")\n",
    "print(img_gray, \"\\n\\n\")\n",
    "# print(img.reshape((18, 18)))"
   ]
  },
  {
   "cell_type": "code",
   "execution_count": null,
   "metadata": {},
   "outputs": [],
   "source": [
    "with open('processed_images.pickle', 'rb') as f:\n",
    "    processed_images = pickle.load(f)\n",
    "processed_images, len(processed_images)"
   ]
  },
  {
   "cell_type": "code",
   "execution_count": null,
   "metadata": {},
   "outputs": [],
   "source": [
    "with open('window_labels.pickle', 'rb') as f:\n",
    "    window_labels = pickle.load(f)\n",
    "window_labels\n",
    "\n",
    "        "
   ]
  },
  {
   "cell_type": "code",
   "execution_count": 4,
   "metadata": {},
   "outputs": [],
   "source": [
    "def load_images_from_folder(folder):\n",
    "    image_tuples = []\n",
    "    for filename in os.listdir(folder):\n",
    "        if (filename not in processed_images):\n",
    "            img = cv2.imread(os.path.join(folder,filename))\n",
    "            if (img is not None):\n",
    "                image_tuples.append((filename, img))\n",
    "    return image_tuples"
   ]
  },
  {
   "cell_type": "code",
   "execution_count": 5,
   "metadata": {},
   "outputs": [],
   "source": [
    "# MinMax Scaler\n",
    "def minmaxScaler(image):\n",
    "    minPixel = np.amin(image)\n",
    "    maxPixel = np.amax(image)\n",
    "    image = (image - minPixel) / (maxPixel - minPixel)\n",
    "    return image"
   ]
  },
  {
   "cell_type": "code",
   "execution_count": 6,
   "metadata": {},
   "outputs": [],
   "source": [
    "def threshold_image(image, threshold=0.1):\n",
    "    gray = cv2.cvtColor(image, cv2.COLOR_BGR2GRAY)\n",
    "    gray = minmaxScaler(gray)\n",
    "    for i in range(len(gray)):\n",
    "        for j in range(len(gray[i])):\n",
    "            gray[i][j] = int((gray[i][j] > threshold) and not (image[i][j][0] < 255 * (1 - threshold) and image[i][j][1] < 255 * (1 - threshold) and image[i][j][2] > 255 * threshold)) * 255\n",
    "    return gray\n",
    "def threshold_image_green(image, threshold=0.1):\n",
    "    gray = cv2.cvtColor(image, cv2.COLOR_BGR2GRAY)\n",
    "    gray = minmaxScaler(gray)\n",
    "    for i in range(len(gray)):\n",
    "        for j in range(len(gray[i])):\n",
    "            gray[i][j] = int((gray[i][j] > threshold) and not (image[i][j][0] < 255 * (1 - threshold) and image[i][j][1] > 255 * threshold and image[i][j][2] < 255 * (1 - threshold)) and not (image[i][j][0] < 255 * (1 - threshold) and image[i][j][1] < 255 * (1 - threshold) and image[i][j][2] > 255 * threshold)) * 255\n",
    "    return gray"
   ]
  },
  {
   "cell_type": "code",
   "execution_count": 7,
   "metadata": {},
   "outputs": [],
   "source": [
    "def generate_windows(image, filename, window_size, interior_size, increment, folder):\n",
    "    gray_img = threshold_image_green(image)\n",
    "    x = 0\n",
    "#     the_counter = 0\n",
    "    while (x < image.shape[0] - window_size):\n",
    "        row_has_intersection = False\n",
    "        y = 0\n",
    "        while (y < image.shape[1] - window_size):\n",
    "\n",
    "            window = image[x : x + window_size, y : y + window_size, :]\n",
    "#             if (counter < 10):\n",
    "#                 print(window.shape)\n",
    "#                 print(window[10:30, 10:30, 0])\n",
    "#                 print(window[10:30, 10:30, 1])\n",
    "#                 print(window[10:30, 10:30, 2])\n",
    "            has_intersection = False\n",
    "            \n",
    "            gray = gray_img[x : x + window_size, y : y + window_size]\n",
    "            sum_of_grayscale_pixels = np.sum(gray) / 255\n",
    "            \n",
    "            \n",
    "            # if the image is not completely white, we can add it to the dataset\n",
    "            if (sum_of_grayscale_pixels < window_size * window_size) and sum_of_grayscale_pixels >= window_size * window_size/10:\n",
    "                \n",
    "                # check center interior square for any red pixels\n",
    "                for x_interior in range (int(window_size/2 - interior_size/2), int(window_size/2 + interior_size/2)):\n",
    "                    for y_interior in range (int(window_size/2 - interior_size/2), int(window_size/2 + interior_size/2)): \n",
    "                        # check if pixel is red\n",
    "#                         if (not has_intersection and \n",
    "#                             window[x_interior][y_interior][0] < 100 and \n",
    "#                             window[x_interior][y_interior][1] < 100 and\n",
    "#                             window[x_interior][y_interior][2] > 200):\n",
    "                        if (not has_intersection and \n",
    "                            window[x_interior][y_interior][0] < 100 and \n",
    "                            window[x_interior][y_interior][1] > 150 and\n",
    "                            window[x_interior][y_interior][2] < 100):\n",
    "                            row_has_intersection = True\n",
    "                            has_intersection = True\n",
    "#                             if counter > 100 and counter < 120:\n",
    "#                                 print(\"------------------------------\")\n",
    "#                                 print(window[int(window_size/2 - interior_size/2):int(window_size/2 + interior_size/2), int(window_size/2 - interior_size/2):int(window_size/2 + interior_size/2), 0])\n",
    "#                                 print(window[int(window_size/2 - interior_size/2):int(window_size/2 + interior_size/2), int(window_size/2 - interior_size/2):int(window_size/2 + interior_size/2), 1])\n",
    "#                                 print(window[int(window_size/2 - interior_size/2):int(window_size/2 + interior_size/2), int(window_size/2 - interior_size/2):int(window_size/2 + interior_size/2), 2])\n",
    "#                                 plt.figure()\n",
    "#                                 plt.imshow(window)\n",
    "#                             counter += 1\n",
    "                            \n",
    "#             if (the_counter < 10 and has_intersection):\n",
    "#                 print(f\"-------------------{the_counter}------------------ \\n\\n\")\n",
    "#                 print(window.shape)\n",
    "#                 print(window[5:20, 5:20, 0], \"\\n\\n\")\n",
    "#                 print(window[5:20, 5:20, 1], \"\\n\\n\")\n",
    "#                 print(window[5:20, 5:20, 2])\n",
    "#                 plt.figure()\n",
    "#                 plt.imshow(window)\n",
    "#                 the_counter += 1\n",
    "                window_id = str(x) + \"_\" + str(y) + \"_\" + str(int(has_intersection)) + \"_\" + filename\n",
    "                window_labels[window_id] = int(has_intersection)\n",
    "                cv2.imwrite(os.path.join(folder, window_id), gray)\n",
    "                \n",
    "            if (has_intersection):\n",
    "                y += int(increment / 5)\n",
    "            else:\n",
    "                y += increment\n",
    "        if (row_has_intersection):\n",
    "            x += int(increment / 5)\n",
    "        else:\n",
    "            x += increment\n",
    "\n",
    "    processed_images.append(filename)"
   ]
  },
  {
   "cell_type": "code",
   "execution_count": 8,
   "metadata": {},
   "outputs": [
    {
     "name": "stdout",
     "output_type": "stream",
     "text": [
      "The length is  238\n"
     ]
    }
   ],
   "source": [
    "# image_tuples = load_images_from_folder(\"test_images\")\n",
    "image_tuples = load_images_from_folder(\"endpt_dataset/Images\")\n",
    "print(\"The length is \", len(image_tuples))\n",
    "for image_tuple in image_tuples:\n",
    "    filename = image_tuple[0]\n",
    "    image = image_tuple[1]\n",
    "    generate_windows(image=image, filename=filename, window_size=25, interior_size=5, increment=10, folder=\"endpt_dataset/window_images\")\n",
    "#     generate_windows(image=image, filename=filename, window_size=25, interior_size=5, increment=2, folder=\"test_mini_images\")"
   ]
  },
  {
   "cell_type": "code",
   "execution_count": null,
   "metadata": {},
   "outputs": [],
   "source": [
    "with open('processed_images.pickle', 'wb') as f:\n",
    "    pickle.dump(processed_images, f)"
   ]
  },
  {
   "cell_type": "code",
   "execution_count": null,
   "metadata": {},
   "outputs": [],
   "source": [
    "with open('window_labels.pickle', 'wb') as f:\n",
    "    pickle.dump(window_labels, f)"
   ]
  },
  {
   "cell_type": "code",
   "execution_count": 3,
   "metadata": {},
   "outputs": [],
   "source": [
    "processed_images = []\n",
    "window_labels = {}"
   ]
  },
  {
   "cell_type": "code",
   "execution_count": 9,
   "metadata": {},
   "outputs": [
    {
     "name": "stdout",
     "output_type": "stream",
     "text": [
      "doesn't work 80_160_0_236.jpeg\n",
      "doesn't work 80_170_0_236.jpeg\n",
      "doesn't work 90_150_0_236.jpeg\n",
      "doesn't work 90_160_0_236.jpeg\n",
      "doesn't work 90_170_0_236.jpeg\n",
      "doesn't work 90_180_0_236.jpeg\n",
      "doesn't work 100_150_0_236.jpeg\n",
      "doesn't work 100_160_0_236.jpeg\n",
      "doesn't work 100_170_0_236.jpeg\n",
      "doesn't work 100_180_0_236.jpeg\n",
      "doesn't work 100_250_0_236.jpeg\n",
      "doesn't work 100_260_0_236.jpeg\n",
      "doesn't work 100_270_0_236.jpeg\n",
      "doesn't work 110_150_0_236.jpeg\n",
      "doesn't work 110_160_0_236.jpeg\n",
      "doesn't work 110_170_0_236.jpeg\n",
      "doesn't work 110_180_0_236.jpeg\n",
      "doesn't work 110_250_0_236.jpeg\n",
      "doesn't work 110_260_1_236.jpeg\n",
      "110_260_1_236.jpeg\n",
      "doesn't work 110_262_1_236.jpeg\n",
      "110_262_1_236.jpeg\n",
      "110_264_1_236.jpeg\n",
      "110_266_1_236.jpeg\n",
      "112_260_1_236.jpeg\n",
      "112_262_1_236.jpeg\n",
      "112_264_1_236.jpeg\n",
      "112_266_1_236.jpeg\n",
      "114_260_1_236.jpeg\n",
      "114_262_1_236.jpeg\n",
      "114_264_1_236.jpeg\n",
      "114_266_1_236.jpeg\n",
      "136_430_1_236.jpeg\n",
      "136_432_1_236.jpeg\n",
      "136_434_1_236.jpeg\n",
      "136_436_1_236.jpeg\n",
      "136_438_1_236.jpeg\n",
      "138_430_1_236.jpeg\n",
      "138_432_1_236.jpeg\n",
      "138_434_1_236.jpeg\n",
      "374104\n",
      "13426\n"
     ]
    }
   ],
   "source": [
    "# plt.figure()\n",
    "counter = 0\n",
    "\n",
    "for label in window_labels:\n",
    "    if (counter < 2):\n",
    "        print(\"doesn't work\", label)\n",
    "    if window_labels[label]:\n",
    "        if (counter < 20):\n",
    "            print(label)\n",
    "        counter += 1\n",
    "    \n",
    "#         img = cv2.imread(os.path.join(\"endpt_dataset/window_images\", label))\n",
    "#         plt.imshow(img)\n",
    "        \n",
    "print(len(window_labels))\n",
    "print(counter)"
   ]
  },
  {
   "cell_type": "code",
   "execution_count": null,
   "metadata": {},
   "outputs": [],
   "source": [
    "print(len(processed_images))\n",
    "processed_images"
   ]
  },
  {
   "cell_type": "code",
   "execution_count": null,
   "metadata": {},
   "outputs": [],
   "source": [
    "import shutil\n",
    "def new_threshold(gray, threshold=25):\n",
    "    for i in range(len(gray)):\n",
    "        for j in range(len(gray[i])):\n",
    "            gray[i][j] = int(gray[i][j] > threshold) * 255\n",
    "    return gray\n",
    "directory = \"test_mini_images\"\n",
    "# new_directory = \"test\"\n",
    "counter = 0\n",
    "new_counter = 0\n",
    "for filename in os.listdir(directory):\n",
    "#     print(filename, directory, os.path.join(directory, filename))\n",
    "#     if counter < 100:\n",
    "#         print(filename)\n",
    "#     if counter > 30000:\n",
    "#         break\n",
    "    img = cv2.imread(os.path.join(directory,filename), 0)\n",
    "    img = new_threshold(img)\n",
    "#     img = cv2.cvtColor(img, cv2.COLOR_BGR2GRAY)\n",
    "    counter += 1\n",
    "    if np.sum(img)/255 < 60:\n",
    "        new_counter += 1\n",
    "#         shutil.move(os.path.join(directory, filename), os.path.join(new_directory, filename))\n",
    "\n",
    "print(counter, new_counter)\n",
    "        \n"
   ]
  },
  {
   "cell_type": "code",
   "execution_count": null,
   "metadata": {},
   "outputs": [],
   "source": []
  }
 ],
 "metadata": {
  "kernelspec": {
   "display_name": "Python 3",
   "language": "python",
   "name": "python3"
  },
  "language_info": {
   "codemirror_mode": {
    "name": "ipython",
    "version": 3
   },
   "file_extension": ".py",
   "mimetype": "text/x-python",
   "name": "python",
   "nbconvert_exporter": "python",
   "pygments_lexer": "ipython3",
   "version": "3.7.6"
  }
 },
 "nbformat": 4,
 "nbformat_minor": 2
}
