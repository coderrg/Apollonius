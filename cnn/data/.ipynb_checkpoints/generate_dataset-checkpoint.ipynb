{
 "cells": [
  {
   "cell_type": "code",
   "execution_count": null,
   "metadata": {},
   "outputs": [],
   "source": [
    "import cv2\n",
    "import numpy as np\n",
    "import os\n",
    "import pickle"
   ]
  },
  {
   "cell_type": "code",
   "execution_count": null,
   "metadata": {},
   "outputs": [],
   "source": [
    "with open('processed_images.pickle', 'rb') as f:\n",
    "    processed_images = pickle.load(f)\n",
    "processed_images"
   ]
  },
  {
   "cell_type": "code",
   "execution_count": null,
   "metadata": {},
   "outputs": [],
   "source": [
    "with open('window_labels.pickle', 'rb') as f:\n",
    "    window_labels = pickle.load(f)\n",
    "window_labels"
   ]
  },
  {
   "cell_type": "code",
   "execution_count": null,
   "metadata": {},
   "outputs": [],
   "source": [
    "def load_images_from_folder(folder):\n",
    "    image_tuples = []\n",
    "    for filename in os.listdir(folder):\n",
    "        if (filename not in processed_images):\n",
    "            img = cv2.imread(os.path.join(folder,filename))\n",
    "            if (img is not None):\n",
    "                image_tuples.append((filename, img))\n",
    "    return image_tuples"
   ]
  },
  {
   "cell_type": "code",
   "execution_count": null,
   "metadata": {},
   "outputs": [],
   "source": [
    "def threshold_image(image, threshold=25):\n",
    "    gray = cv2.cvtColor(image, cv2.COLOR_BGR2GRAY)\n",
    "    for i in range(len(gray)):\n",
    "        for j in range(len(gray[i])):\n",
    "            gray[i][j] = int((gray[i][j] > threshold) and not (image[i][j][0] < 255 - threshold and image[i][j][1] < 255 - threshold and image[i][j][2] > threshold)) * 255\n",
    "    return gray"
   ]
  },
  {
   "cell_type": "code",
   "execution_count": null,
   "metadata": {},
   "outputs": [],
   "source": [
    "def generate_windows(image, filename, window_size, interior_size, increment, folder):\n",
    "    x = 0\n",
    "    while (x < image.shape[0] - window_size):\n",
    "        row_has_intersection = False\n",
    "        y = 0\n",
    "        while (y < image.shape[1] - window_size):\n",
    "            window = image[x : x + window_size, y : y + window_size, :]\n",
    "            has_intersection = False\n",
    "            \n",
    "            gray = threshold_image(window)\n",
    "            sum_of_grayscale_pixels = np.sum(gray) / 255\n",
    "            \n",
    "            # if the image is not completely white, we can add it to the dataset\n",
    "            if (sum_of_grayscale_pixels < window_size * window_size):\n",
    "                \n",
    "                # check center interior square for any red pixels\n",
    "                for x_interior in range (int(window_size/2 - interior_size/2), int(window_size/2 + interior_size/2)):\n",
    "                    for y_interior in range (int(window_size/2 - interior_size/2), int(window_size/2 + interior_size/2)): \n",
    "                        # check if pixel is red\n",
    "                        if (not has_intersection and \n",
    "                            window[x_interior][y_interior][0] < 100 and \n",
    "                            window[x_interior][y_interior][1] < 100 and\n",
    "                            window[x_interior][y_interior][2] > 200):\n",
    "                            row_has_intersection = True\n",
    "                            has_intersection = True\n",
    "\n",
    "                window_id = str(x) + \"_\" + str(y) + \"_\" + filename\n",
    "                window_labels[window_id] = int(has_intersection)\n",
    "                cv2.imwrite(os.path.join(folder, window_id), gray)\n",
    "                \n",
    "            if (has_intersection):\n",
    "                y += int(increment / 5)\n",
    "            else:\n",
    "                y += increment\n",
    "        if (row_has_intersection):\n",
    "            x += int(increment / 5)\n",
    "        else:\n",
    "            x += increment\n",
    "\n",
    "    processed_images.append(filename)"
   ]
  },
  {
   "cell_type": "code",
   "execution_count": null,
   "metadata": {},
   "outputs": [],
   "source": [
    "image_tuples = load_images_from_folder(\"images\")\n",
    "for image_tuple in image_tuples:\n",
    "    filename = image_tuple[0]\n",
    "    image = image_tuple[1]\n",
    "    generate_windows(image=image, filename=filename, window_size=25, interior_size=5, increment=10, folder=\"dataset\")"
   ]
  },
  {
   "cell_type": "code",
   "execution_count": null,
   "metadata": {},
   "outputs": [],
   "source": [
    "with open('processed_images.pickle', 'wb') as f:\n",
    "    pickle.dump(processed_images, f)"
   ]
  },
  {
   "cell_type": "code",
   "execution_count": null,
   "metadata": {},
   "outputs": [],
   "source": [
    "with open('window_labels.pickle', 'wb') as f:\n",
    "    pickle.dump(window_labels, f)"
   ]
  },
  {
   "cell_type": "code",
   "execution_count": null,
   "metadata": {},
   "outputs": [],
   "source": [
    "# processed_images = []\n",
    "# window_labels = {}"
   ]
  },
  {
   "cell_type": "code",
   "execution_count": null,
   "metadata": {},
   "outputs": [],
   "source": [
    "window_labels"
   ]
  },
  {
   "cell_type": "code",
   "execution_count": null,
   "metadata": {},
   "outputs": [],
   "source": []
  }
 ],
 "metadata": {
  "kernelspec": {
   "display_name": "Python 3",
   "language": "python",
   "name": "python3"
  },
  "language_info": {
   "codemirror_mode": {
    "name": "ipython",
    "version": 3
   },
   "file_extension": ".py",
   "mimetype": "text/x-python",
   "name": "python",
   "nbconvert_exporter": "python",
   "pygments_lexer": "ipython3",
   "version": "3.7.4"
  }
 },
 "nbformat": 4,
 "nbformat_minor": 2
}
