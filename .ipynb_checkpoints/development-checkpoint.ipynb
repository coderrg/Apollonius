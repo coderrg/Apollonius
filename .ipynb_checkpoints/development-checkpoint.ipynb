{
 "cells": [
  {
   "cell_type": "code",
   "execution_count": 2,
   "metadata": {},
   "outputs": [],
   "source": [
    "%matplotlib inline\n",
    "import numpy as np\n",
    "import cv2\n",
    "from matplotlib import pyplot as plt"
   ]
  },
  {
   "cell_type": "code",
   "execution_count": 3,
   "metadata": {},
   "outputs": [
    {
     "name": "stdout",
     "output_type": "stream",
     "text": [
      "[[255 255 255 255 255 255 255 255 255 255 255 255 255 255 255]\n",
      " [255 255 255 255 255 255 255 255 255 255 255 255 237 252 255]\n",
      " [255 255 255 255 255 255 255 255 255 255 255 255 255 255 255]\n",
      " [255 255 255 255 255 255 255 255 255 255 255 255 247 244 255]\n",
      " [255 255 255 255 255 255 255 255 255 255 255 255 255 255 244]\n",
      " [255 255 255 255 255 255 255 255 255 255 255 255 248 244 255]\n",
      " [255 255 255 255 255 255 255 255 255 255 255 255 255 248 255]\n",
      " [255 255 255 255 255 255 255 255 255 255 255 255 249 255 247]\n",
      " [255 254 254 253 255 255 255 255 255 255 255 255 255 236 255]\n",
      " [252 254 255 255 250 250 251 253 254 255 255 255 241 255 255]\n",
      " [143 147 149 151 160 161 163 166 168 171 173 174 192 179 178]\n",
      " [  0   1   2   3   0   0   0   0   0   0   0   0   0   5   2]\n",
      " [  0   0   0   0   6   5   4   3   2   0   0   0   0  21   0]\n",
      " [108 105 102 101  76  75  74  71  68  66  64  63  41  65  53]\n",
      " [255 253 252 251 255 255 255 255 255 255 255 255 254 255 255]\n",
      " [255 255 255 255 254 254 254 254 255 255 255 255 255 243 242]\n",
      " [255 255 255 255 255 255 255 255 255 255 255 255 255 255 255]\n",
      " [255 255 255 255 255 255 255 255 255 255 255 255 255 255 255]\n",
      " [255 255 255 255 255 255 255 255 255 255 255 255 255 255 255]\n",
      " [255 255 255 255 255 255 255 255 255 255 255 255 255 255 255]\n",
      " [255 255 255 255 255 255 255 255 255 255 255 255 255 255 255]\n",
      " [255 255 255 255 255 255 255 255 255 255 255 255 255 255 255]\n",
      " [255 255 255 255 255 255 255 255 255 255 255 255 255 255 255]\n",
      " [255 255 255 255 255 255 255 255 255 255 255 255 255 255 255]\n",
      " [255 255 255 255 255 255 255 255 255 255 255 255 255 255 255]\n",
      " [255 255 255 255 255 255 255 255 255 255 255 255 255 255 255]\n",
      " [255 255 255 255 255 255 255 255 255 255 255 255 255 255 255]\n",
      " [255 255 255 255 255 255 255 255 255 255 255 255 255 255 255]\n",
      " [255 255 255 255 255 255 255 255 255 255 255 255 255 255 255]\n",
      " [255 255 255 255 255 255 255 255 255 255 255 255 255 255 255]]\n"
     ]
    },
    {
     "data": {
      "image/png": "[encoded data removed]",
      "text/plain": [
       "<Figure size 432x288 with 1 Axes>"
      ]
     },
     "metadata": {
      "needs_background": "light"
     },
     "output_type": "display_data"
    }
   ],
   "source": [
    "filename = 'tests/001.jpg'\n",
    "threshold = 0.1\n",
    "img = cv2.imread(filename, 0)\n",
    "edges = cv2.Canny(img,100,200)\n",
    "rows = img.shape[0]\n",
    "cols = img.shape[1]\n",
    "\n",
    "plt.imshow(img[520:550, 460:475], cmap='gray')\n",
    "print(img[520:550, 460:475])\n",
    "plt.show()\n"
   ]
  },
  {
   "cell_type": "code",
   "execution_count": 4,
   "metadata": {},
   "outputs": [
    {
     "name": "stdout",
     "output_type": "stream",
     "text": [
      "[[1.         1.         1.         1.         1.         1.\n",
      "  1.         1.         1.         1.         1.         1.\n",
      "  1.         1.         1.        ]\n",
      " [1.         1.         1.         1.         1.         1.\n",
      "  1.         1.         1.         1.         1.         1.\n",
      "  0.92941176 0.98823529 1.        ]\n",
      " [1.         1.         1.         1.         1.         1.\n",
      "  1.         1.         1.         1.         1.         1.\n",
      "  1.         1.         1.        ]\n",
      " [1.         1.         1.         1.         1.         1.\n",
      "  1.         1.         1.         1.         1.         1.\n",
      "  0.96862745 0.95686275 1.        ]\n",
      " [1.         1.         1.         1.         1.         1.\n",
      "  1.         1.         1.         1.         1.         1.\n",
      "  1.         1.         0.95686275]\n",
      " [1.         1.         1.         1.         1.         1.\n",
      "  1.         1.         1.         1.         1.         1.\n",
      "  0.97254902 0.95686275 1.        ]\n",
      " [1.         1.         1.         1.         1.         1.\n",
      "  1.         1.         1.         1.         1.         1.\n",
      "  1.         0.97254902 1.        ]\n",
      " [1.         1.         1.         1.         1.         1.\n",
      "  1.         1.         1.         1.         1.         1.\n",
      "  0.97647059 1.         0.96862745]\n",
      " [1.         0.99607843 0.99607843 0.99215686 1.         1.\n",
      "  1.         1.         1.         1.         1.         1.\n",
      "  1.         0.9254902  1.        ]\n",
      " [0.98823529 0.99607843 1.         1.         0.98039216 0.98039216\n",
      "  0.98431373 0.99215686 0.99607843 1.         1.         1.\n",
      "  0.94509804 1.         1.        ]\n",
      " [0.56078431 0.57647059 0.58431373 0.59215686 0.62745098 0.63137255\n",
      "  0.63921569 0.65098039 0.65882353 0.67058824 0.67843137 0.68235294\n",
      "  0.75294118 0.70196078 0.69803922]\n",
      " [0.         0.00392157 0.00784314 0.01176471 0.         0.\n",
      "  0.         0.         0.         0.         0.         0.\n",
      "  0.         0.01960784 0.00784314]\n",
      " [0.         0.         0.         0.         0.02352941 0.01960784\n",
      "  0.01568627 0.01176471 0.00784314 0.         0.         0.\n",
      "  0.         0.08235294 0.        ]\n",
      " [0.42352941 0.41176471 0.4        0.39607843 0.29803922 0.29411765\n",
      "  0.29019608 0.27843137 0.26666667 0.25882353 0.25098039 0.24705882\n",
      "  0.16078431 0.25490196 0.20784314]\n",
      " [1.         0.99215686 0.98823529 0.98431373 1.         1.\n",
      "  1.         1.         1.         1.         1.         1.\n",
      "  0.99607843 1.         1.        ]\n",
      " [1.         1.         1.         1.         0.99607843 0.99607843\n",
      "  0.99607843 0.99607843 1.         1.         1.         1.\n",
      "  1.         0.95294118 0.94901961]\n",
      " [1.         1.         1.         1.         1.         1.\n",
      "  1.         1.         1.         1.         1.         1.\n",
      "  1.         1.         1.        ]\n",
      " [1.         1.         1.         1.         1.         1.\n",
      "  1.         1.         1.         1.         1.         1.\n",
      "  1.         1.         1.        ]\n",
      " [1.         1.         1.         1.         1.         1.\n",
      "  1.         1.         1.         1.         1.         1.\n",
      "  1.         1.         1.        ]\n",
      " [1.         1.         1.         1.         1.         1.\n",
      "  1.         1.         1.         1.         1.         1.\n",
      "  1.         1.         1.        ]\n",
      " [1.         1.         1.         1.         1.         1.\n",
      "  1.         1.         1.         1.         1.         1.\n",
      "  1.         1.         1.        ]\n",
      " [1.         1.         1.         1.         1.         1.\n",
      "  1.         1.         1.         1.         1.         1.\n",
      "  1.         1.         1.        ]\n",
      " [1.         1.         1.         1.         1.         1.\n",
      "  1.         1.         1.         1.         1.         1.\n",
      "  1.         1.         1.        ]\n",
      " [1.         1.         1.         1.         1.         1.\n",
      "  1.         1.         1.         1.         1.         1.\n",
      "  1.         1.         1.        ]\n",
      " [1.         1.         1.         1.         1.         1.\n",
      "  1.         1.         1.         1.         1.         1.\n",
      "  1.         1.         1.        ]\n",
      " [1.         1.         1.         1.         1.         1.\n",
      "  1.         1.         1.         1.         1.         1.\n",
      "  1.         1.         1.        ]\n",
      " [1.         1.         1.         1.         1.         1.\n",
      "  1.         1.         1.         1.         1.         1.\n",
      "  1.         1.         1.        ]\n",
      " [1.         1.         1.         1.         1.         1.\n",
      "  1.         1.         1.         1.         1.         1.\n",
      "  1.         1.         1.        ]\n",
      " [1.         1.         1.         1.         1.         1.\n",
      "  1.         1.         1.         1.         1.         1.\n",
      "  1.         1.         1.        ]\n",
      " [1.         1.         1.         1.         1.         1.\n",
      "  1.         1.         1.         1.         1.         1.\n",
      "  1.         1.         1.        ]]\n",
      "[[1. 0. 0. 1. 0. 0. 0. 0. 0. 0. 0. 0. 0. 0. 0.]\n",
      " [1. 0. 0. 1. 1. 0. 0. 0. 0. 0. 0. 0. 0. 0. 0.]\n",
      " [1. 1. 0. 0. 1. 0. 0. 0. 0. 0. 0. 0. 0. 0. 0.]\n",
      " [0. 1. 0. 0. 1. 1. 0. 0. 0. 0. 0. 0. 0. 0. 0.]\n",
      " [0. 1. 1. 0. 0. 1. 0. 0. 0. 0. 0. 0. 0. 0. 0.]\n",
      " [0. 0. 1. 0. 0. 1. 1. 0. 0. 0. 0. 0. 0. 0. 0.]\n",
      " [0. 0. 1. 1. 0. 0. 1. 1. 0. 0. 0. 0. 0. 0. 0.]\n",
      " [0. 0. 0. 1. 0. 0. 0. 1. 0. 0. 0. 0. 0. 0. 0.]\n",
      " [0. 0. 0. 1. 1. 0. 0. 1. 1. 0. 0. 0. 0. 0. 0.]\n",
      " [0. 0. 0. 0. 1. 1. 0. 0. 1. 0. 0. 0. 0. 0. 0.]\n",
      " [0. 0. 0. 0. 0. 1. 0. 0. 1. 1. 0. 0. 0. 0. 0.]\n",
      " [0. 0. 0. 0. 0. 1. 1. 0. 0. 1. 0. 0. 0. 0. 0.]\n",
      " [0. 0. 0. 0. 0. 0. 1. 0. 0. 1. 1. 0. 0. 0. 0.]\n",
      " [0. 0. 0. 0. 0. 0. 1. 1. 0. 0. 1. 1. 0. 0. 0.]\n",
      " [0. 0. 0. 0. 0. 0. 0. 1. 1. 0. 0. 1. 0. 0. 0.]\n",
      " [0. 0. 0. 0. 0. 0. 0. 0. 1. 0. 0. 1. 1. 0. 0.]\n",
      " [0. 0. 0. 0. 0. 0. 0. 0. 1. 1. 0. 0. 1. 0. 0.]\n",
      " [0. 0. 0. 0. 0. 0. 0. 0. 0. 1. 0. 0. 1. 1. 0.]\n",
      " [0. 0. 0. 0. 0. 0. 0. 0. 0. 1. 1. 0. 0. 1. 1.]\n",
      " [0. 0. 0. 0. 0. 0. 0. 0. 0. 0. 1. 1. 0. 0. 1.]]\n"
     ]
    }
   ],
   "source": [
    "# MinMax Scaler\n",
    "def minmaxScaler(image):\n",
    "    minPixel = np.amin(image)\n",
    "    maxPixel = np.amax(image)\n",
    "    image = (image - minPixel) / (maxPixel - minPixel)\n",
    "    return image\n",
    "\n",
    "img = minmaxScaler(img)\n",
    "# print(img[190:210, 290:305])\n",
    "edges = minmaxScaler(edges)\n",
    "# minPixelEdges = np.amin(edges)\n",
    "# maxPixelEdges = np.amax(edges)\n",
    "# edges = (edges - minPixelEdges)/(maxPixelEdges - minPixelEdges)\n",
    "print(img[520:550, 460:475])\n",
    "print(edges[190:210, 290:305]) \n",
    "new_array = np.array(edges)\n"
   ]
  },
  {
   "cell_type": "code",
   "execution_count": 5,
   "metadata": {},
   "outputs": [
    {
     "name": "stdout",
     "output_type": "stream",
     "text": [
      "[[0. 0. 0. 0. 0. 0. 0. 0. 0. 0. 0. 0. 0. 0. 0.]\n",
      " [0. 0. 0. 0. 0. 0. 0. 0. 0. 0. 0. 0. 0. 0. 0.]\n",
      " [0. 0. 0. 0. 0. 0. 0. 0. 0. 0. 0. 0. 0. 0. 0.]\n",
      " [0. 0. 0. 0. 0. 0. 0. 0. 0. 0. 0. 0. 0. 0. 0.]\n",
      " [0. 0. 0. 0. 0. 0. 0. 0. 0. 0. 0. 0. 0. 0. 0.]\n",
      " [0. 0. 0. 0. 0. 0. 0. 0. 0. 0. 0. 0. 0. 0. 0.]\n",
      " [0. 0. 0. 0. 0. 0. 0. 0. 0. 0. 0. 0. 0. 0. 0.]\n",
      " [0. 0. 0. 0. 0. 0. 0. 0. 0. 0. 0. 0. 0. 0. 0.]\n",
      " [0. 0. 0. 0. 0. 0. 0. 0. 0. 0. 0. 0. 0. 0. 0.]\n",
      " [0. 0. 0. 0. 0. 0. 0. 0. 0. 0. 0. 0. 0. 0. 0.]\n",
      " [0. 0. 0. 0. 0. 0. 0. 0. 0. 0. 0. 0. 0. 0. 0.]\n",
      " [1. 1. 1. 1. 1. 1. 1. 1. 1. 1. 1. 1. 1. 1. 1.]\n",
      " [1. 1. 1. 1. 1. 1. 1. 1. 1. 1. 1. 1. 1. 1. 1.]\n",
      " [0. 0. 0. 0. 0. 0. 0. 0. 0. 0. 0. 0. 0. 0. 0.]\n",
      " [0. 0. 0. 0. 0. 0. 0. 0. 0. 0. 0. 0. 0. 0. 0.]\n",
      " [0. 0. 0. 0. 0. 0. 0. 0. 0. 0. 0. 0. 0. 0. 0.]\n",
      " [0. 0. 0. 0. 0. 0. 0. 0. 0. 0. 0. 0. 0. 0. 0.]\n",
      " [0. 0. 0. 0. 0. 0. 0. 0. 0. 0. 0. 0. 0. 0. 0.]\n",
      " [0. 0. 0. 0. 0. 0. 0. 0. 0. 0. 0. 0. 0. 0. 0.]\n",
      " [0. 0. 0. 0. 0. 0. 0. 0. 0. 0. 0. 0. 0. 0. 0.]\n",
      " [0. 0. 0. 0. 0. 0. 0. 0. 0. 0. 0. 0. 0. 0. 0.]\n",
      " [0. 0. 0. 0. 0. 0. 0. 0. 0. 0. 0. 0. 0. 0. 0.]\n",
      " [0. 0. 0. 0. 0. 0. 0. 0. 0. 0. 0. 0. 0. 0. 0.]\n",
      " [0. 0. 0. 0. 0. 0. 0. 0. 0. 0. 0. 0. 0. 0. 0.]\n",
      " [0. 0. 0. 0. 0. 0. 0. 0. 0. 0. 0. 0. 0. 0. 0.]\n",
      " [0. 0. 0. 0. 0. 0. 0. 0. 0. 0. 0. 0. 0. 0. 0.]\n",
      " [0. 0. 0. 0. 0. 0. 0. 0. 0. 0. 0. 0. 0. 0. 0.]\n",
      " [0. 0. 0. 0. 0. 0. 0. 0. 0. 0. 0. 0. 0. 0. 0.]\n",
      " [0. 0. 0. 0. 0. 0. 0. 0. 0. 0. 0. 0. 0. 0. 0.]\n",
      " [0. 0. 0. 0. 0. 0. 0. 0. 0. 0. 0. 0. 0. 0. 0.]]\n"
     ]
    },
    {
     "data": {
      "text/plain": [
       "True"
      ]
     },
     "execution_count": 5,
     "metadata": {},
     "output_type": "execute_result"
    }
   ],
   "source": [
    "# Threshold Image\n",
    "def thresholdImage(image, threshold):\n",
    "    for i in range(len(image)):\n",
    "        for j in range(len(image[i])):\n",
    "            image[i][j] = int(image[i][j] <= threshold)\n",
    "    return image\n",
    "\n",
    "img = thresholdImage(img, threshold)\n",
    "print(img[520:550, 460:475])\n",
    "for i in range(len(img)):\n",
    "    for j in range(len(img[i])):\n",
    "        img[i][j] = (255 * img[i][j])\n",
    "\n",
    "cv2.imwrite('tests/houghcircles001.jpg',img)"
   ]
  },
  {
   "cell_type": "code",
   "execution_count": 6,
   "metadata": {},
   "outputs": [
    {
     "name": "stdout",
     "output_type": "stream",
     "text": [
      "29\n"
     ]
    },
    {
     "data": {
      "text/plain": [
       "True"
      ]
     },
     "execution_count": 6,
     "metadata": {},
     "output_type": "execute_result"
    }
   ],
   "source": [
    "img = cv2.imread('tests/003.png')\n",
    "gray = cv2.cvtColor(img,cv2.COLOR_BGR2GRAY)\n",
    "edges = cv2.Canny(gray,50,150,apertureSize = 3)\n",
    "cv2.imwrite('tests/003edges.png',edges)\n",
    "lines = cv2.HoughLines(edges, 1, np.pi/180, 125)\n",
    "print(len(lines))\n",
    "for line in lines:\n",
    "    for rho,theta in line:\n",
    "        a = np.cos(theta)\n",
    "        b = np.sin(theta)\n",
    "        x0 = a*rho\n",
    "        y0 = b*rho\n",
    "        x1 = int(x0 + 1000*(-b))\n",
    "        y1 = int(y0 + 1000*(a))\n",
    "        x2 = int(x0 - 1000*(-b))\n",
    "        y2 = int(y0 - 1000*(a))\n",
    "\n",
    "        cv2.line(img,(x1,y1),(x2,y2),(0,0,255),2)\n",
    "\n",
    "cv2.imwrite('tests/houghlines003.png',img)\n"
   ]
  },
  {
   "cell_type": "code",
   "execution_count": 7,
   "metadata": {},
   "outputs": [
    {
     "data": {
      "text/plain": [
       "True"
      ]
     },
     "execution_count": 7,
     "metadata": {},
     "output_type": "execute_result"
    }
   ],
   "source": [
    "img = cv2.imread('tests/dave.jpg')\n",
    "gray = cv2.cvtColor(img,cv2.COLOR_BGR2GRAY)\n",
    "edges = cv2.Canny(gray,50,150,apertureSize = 3)\n",
    "minLineLength = 100\n",
    "maxLineGap = 10\n",
    "lines = cv2.HoughLinesP(edges,1,np.pi/180,100,minLineLength,maxLineGap)\n",
    "for line in lines:\n",
    "    for x1,y1,x2,y2 in line:\n",
    "        cv2.line(img,(x1,y1),(x2,y2),(0,255,0),2)\n",
    "\n",
    "cv2.imwrite('tests/houghlines5.jpg',img)"
   ]
  },
  {
   "cell_type": "code",
   "execution_count": 8,
   "metadata": {},
   "outputs": [
    {
     "name": "stdout",
     "output_type": "stream",
     "text": [
      "1\n",
      "1\n"
     ]
    },
    {
     "data": {
      "text/plain": [
       "True"
      ]
     },
     "execution_count": 8,
     "metadata": {},
     "output_type": "execute_result"
    }
   ],
   "source": [
    "img = cv2.imread('tests/001.jpg', 0)\n",
    "img = cv2.medianBlur(img,5)\n",
    "cimg = cv2.cvtColor(img,cv2.COLOR_GRAY2BGR)\n",
    "\n",
    "circles = cv2.HoughCircles(img,cv2.HOUGH_GRADIENT,1,40,\n",
    "                            param1=200,param2=75,minRadius=0,maxRadius=0)\n",
    "\n",
    "circles = np.uint16(np.around(circles))\n",
    "print(len(circles))\n",
    "counter = 0\n",
    "for i in circles[0]:\n",
    "    # draw the outer circle\n",
    "    cv2.circle(cimg,(i[0],i[1]),i[2],(0,255,0),2)\n",
    "    # draw the center of the circle\n",
    "    cv2.circle(cimg,(i[0],i[1]),2,(0,0,255),3)\n",
    "    counter += 1\n",
    "print(counter)\n",
    "cv2.imwrite('tests/houghcircles001.jpg',cimg)"
   ]
  },
  {
   "cell_type": "code",
   "execution_count": 9,
   "metadata": {},
   "outputs": [
    {
     "name": "stdout",
     "output_type": "stream",
     "text": [
      "(684, 1037)\n"
     ]
    }
   ],
   "source": [
    "visited = np.array([[False for i in range (cols)] for j in range (rows)])\n",
    "print(visited.shape)"
   ]
  },
  {
   "cell_type": "code",
   "execution_count": 19,
   "metadata": {},
   "outputs": [
    {
     "name": "stdout",
     "output_type": "stream",
     "text": [
      "The original image at this location is: \n",
      "  [[185   0   9   0 211 255 255 255 252 250 255]\n",
      " [255  44   5   0  41 255 232 246 245 243 252]\n",
      " [251 198   0  15   6 192 249 255 255 255 255]\n",
      " [248 255  59   0   0  30 255 246 251 255 255]\n",
      " [255 255 209  33   0   0 181 247 255 251 252]\n",
      " [255 255 255  77   0  11  19 248 254 252 255]\n",
      " [255 254 252 238   0   6  10 115 255 255 245]\n",
      " [246 246 255 243 120   0   0  18 249 237 255]\n",
      " [246 255 243 255 255   7   0   9  85 255 253]\n",
      " [255 249 255 250 251 154   0   0   0 214 243]\n",
      " [255 254 255 249 251 245  49   0  16  64 255]\n",
      " [253 255 241 255 255 236 175  10   0   0 166]\n",
      " [254 237 255 255 242 255 255  74   0   9  24]\n",
      " [255 255 235 252 255 255 242 223  12   1   0]\n",
      " [255 255 241 255 255 248 255 237 119   0  25]\n",
      " [255 255 247 255 255 239 255 255 228  28   0]\n",
      " [255 255 249 255 255 249 249 255 255 158   8]\n",
      " [255 255 252 252 255 255 251 244 251 255  40]\n",
      " [255 255 255 245 242 255 255 253 255 255 206]\n",
      " [255 252 255 255 248 255 255 255 255 255 255]\n",
      " [255 248 254 255 255 255 253 250 250 237 255]]\n",
      "The thresholded image at this location is: \n",
      "  [[0. 0. 0. 0. 0. 1. 1. 0. 0. 0. 0. 1. 1. 1. 0. 0. 0. 0. 0. 0. 0.]\n",
      " [0. 0. 0. 0. 1. 1. 0. 0. 0. 0. 0. 0. 1. 1. 0. 0. 0. 0. 0. 0. 0.]\n",
      " [0. 0. 0. 0. 1. 1. 0. 0. 0. 0. 0. 0. 1. 1. 1. 0. 0. 0. 0. 0. 0.]\n",
      " [0. 0. 0. 1. 1. 0. 0. 0. 0. 0. 0. 0. 0. 1. 1. 0. 0. 0. 0. 0. 0.]\n",
      " [0. 0. 0. 1. 1. 0. 0. 0. 0. 0. 0. 0. 0. 0. 1. 1. 0. 0. 0. 0. 0.]\n",
      " [0. 0. 1. 1. 1. 0. 0. 0. 0. 0. 0. 0. 0. 0. 1. 1. 1. 0. 0. 0. 0.]\n",
      " [0. 0. 1. 1. 0. 0. 0. 0. 0. 0. 0. 0. 0. 0. 1. 1. 1. 0. 0. 0. 0.]\n",
      " [0. 1. 1. 0. 0. 0. 0. 0. 0. 0. 0. 0. 0. 0. 0. 1. 1. 1. 0. 0. 0.]\n",
      " [0. 1. 1. 0. 0. 0. 0. 0. 0. 0. 0. 0. 0. 0. 0. 1. 1. 1. 0. 0. 0.]\n",
      " [1. 1. 0. 0. 0. 0. 0. 0. 0. 0. 0. 0. 0. 0. 0. 0. 1. 1. 1. 0. 0.]\n",
      " [1. 1. 0. 0. 0. 0. 0. 0. 0. 0. 0. 0. 0. 0. 0. 0. 0. 1. 1. 0. 2.]\n",
      " [1. 1. 0. 0. 0. 0. 0. 0. 0. 0. 0. 0. 0. 0. 0. 0. 0. 1. 1. 1. 0.]\n",
      " [1. 0. 0. 0. 0. 0. 0. 0. 0. 0. 0. 0. 0. 0. 0. 0. 0. 0. 1. 1. 1.]\n",
      " [1. 0. 0. 0. 0. 0. 0. 0. 0. 0. 0. 0. 0. 0. 0. 0. 0. 0. 1. 1. 1.]\n",
      " [0. 0. 0. 0. 0. 0. 0. 0. 0. 0. 0. 0. 0. 0. 0. 0. 0. 0. 0. 1. 1.]\n",
      " [0. 0. 0. 0. 0. 0. 0. 0. 0. 0. 0. 0. 0. 0. 0. 0. 0. 0. 0. 0. 1.]\n",
      " [0. 0. 0. 0. 0. 0. 0. 0. 0. 0. 0. 0. 0. 0. 0. 0. 0. 0. 0. 0. 1.]\n",
      " [0. 0. 0. 0. 0. 0. 0. 0. 0. 0. 0. 0. 0. 0. 0. 0. 0. 0. 0. 0. 0.]\n",
      " [0. 0. 0. 0. 0. 0. 0. 0. 0. 0. 0. 0. 0. 0. 0. 0. 0. 0. 0. 0. 0.]\n",
      " [0. 0. 0. 0. 0. 0. 0. 0. 0. 0. 0. 0. 0. 0. 0. 0. 0. 0. 0. 0. 0.]\n",
      " [0. 0. 0. 0. 0. 0. 0. 0. 0. 0. 0. 0. 0. 0. 0. 0. 0. 0. 0. 0. 0.]]\n",
      "The edges at this location is: \n",
      "  [[0. 0. 0. 0. 1. 0. 0. 1. 0. 0. 1. 0. 0. 1. 1. 0. 0. 0. 0. 0. 0.]\n",
      " [0. 0. 0. 1. 0. 0. 1. 1. 0. 0. 1. 1. 0. 0. 1. 1. 0. 0. 0. 0. 0.]\n",
      " [0. 0. 1. 1. 0. 0. 1. 0. 0. 0. 0. 1. 0. 0. 0. 1. 0. 0. 0. 0. 0.]\n",
      " [0. 0. 1. 0. 0. 1. 0. 0. 0. 0. 0. 1. 1. 0. 0. 1. 1. 0. 0. 0. 0.]\n",
      " [0. 0. 1. 0. 0. 1. 0. 0. 0. 0. 0. 0. 1. 1. 0. 0. 1. 0. 0. 0. 0.]\n",
      " [0. 1. 1. 0. 1. 1. 0. 0. 0. 0. 0. 0. 0. 1. 0. 0. 1. 1. 0. 0. 0.]\n",
      " [1. 1. 0. 0. 1. 0. 0. 0. 0. 0. 0. 0. 0. 1. 1. 0. 0. 1. 0. 0. 0.]\n",
      " [1. 0. 0. 1. 1. 0. 0. 0. 0. 0. 0. 0. 0. 0. 1. 0. 0. 1. 1. 0. 0.]\n",
      " [1. 0. 0. 1. 0. 0. 0. 0. 0. 0. 0. 0. 0. 0. 1. 1. 0. 0. 1. 0. 0.]\n",
      " [1. 0. 1. 1. 0. 0. 0. 0. 0. 0. 0. 0. 0. 0. 0. 1. 0. 0. 1. 1. 0.]\n",
      " [0. 0. 1. 0. 0. 0. 0. 0. 0. 0. 0. 0. 0. 0. 0. 1. 1. 0. 0. 1. 3.]\n",
      " [0. 1. 1. 0. 0. 0. 0. 0. 0. 0. 0. 0. 0. 0. 0. 0. 1. 0. 0. 0. 1.]\n",
      " [0. 1. 0. 0. 0. 0. 0. 0. 0. 0. 0. 0. 0. 0. 0. 0. 1. 1. 0. 0. 1.]\n",
      " [1. 0. 0. 0. 0. 0. 0. 0. 0. 0. 0. 0. 0. 0. 0. 0. 0. 1. 1. 0. 0.]\n",
      " [1. 0. 0. 0. 0. 0. 0. 0. 0. 0. 0. 0. 0. 0. 0. 0. 0. 0. 1. 0. 0.]\n",
      " [1. 0. 0. 0. 0. 0. 0. 0. 0. 0. 0. 0. 0. 0. 0. 0. 0. 0. 1. 1. 0.]\n",
      " [0. 0. 0. 0. 0. 0. 0. 0. 0. 0. 0. 0. 0. 0. 0. 0. 0. 0. 0. 1. 0.]\n",
      " [0. 0. 0. 0. 0. 0. 0. 0. 0. 0. 0. 0. 0. 0. 0. 0. 0. 0. 0. 1. 1.]\n",
      " [0. 0. 0. 0. 0. 0. 0. 0. 0. 0. 0. 0. 0. 0. 0. 0. 0. 0. 0. 0. 1.]\n",
      " [0. 0. 0. 0. 0. 0. 0. 0. 0. 0. 0. 0. 0. 0. 0. 0. 0. 0. 0. 0. 0.]\n",
      " [0. 0. 0. 0. 0. 0. 0. 0. 0. 0. 0. 0. 0. 0. 0. 0. 0. 0. 0. 0. 0.]]\n",
      "0 [1, 1, 1, 1] [0, 0, 0, 0]\n",
      "1 [1, 1, 1, 1] [0, 0, 0, 0]\n",
      "2 [1, 2, 1, 1] [0, 0, 0, 0]\n",
      "3 [1, 2, 2, 1] [0, 0, 0, 0]\n",
      "4 [1, 3, 2, 1] [0, 0, 0, 0]\n",
      "5 [1, 3, 2, 1] [0, 0, 0, 0]\n",
      "[2074, 6, 2074, 2074]\n",
      "6\n"
     ]
    }
   ],
   "source": [
    "def line_width(filename, row, col):\n",
    "    image = cv2.imread(filename, 0)\n",
    "    edges = cv2.Canny(image, 100, 200)\n",
    "    image = minmaxScaler(image)\n",
    "    image = thresholdImage(image, threshold)\n",
    "    edges = minmaxScaler(edges)\n",
    "    \n",
    "#     print(print_img[row - 5: row + 6, col - 5: col + 6])\n",
    "#     print(edges[row - 1: row + 2, col - 1: col + 2])\n",
    "#     print(edges[row - 10: row + 11, col - 10: col + 11])\n",
    "#     print(np.array(edges).shape)\n",
    "    if not edges[row][col]: \n",
    "        return -1\n",
    "    max_width = max(rows, cols)\n",
    "#     directions = [0 for i in range(4)]\n",
    "    initial_loc = [-1 for i in range(4)]\n",
    "    directions_stage = [0 for i in range(4)]\n",
    "    final_widths = [2 * max_width for i in range(4)]\n",
    "    for r in range(max_width):\n",
    "        for i in [-1, 1]:\n",
    "            if row + r * i >= 0 and row + r * i < rows:\n",
    "                if edges[row + r * i][col]:\n",
    "                    if directions_stage[i+1] == 0 or directions_stage[i+1] == 2:\n",
    "                        directions_stage[i+1] += 1\n",
    "                elif image[row + r * i][col]:\n",
    "#                 elif image[row + r * i][col] <= threshold:\n",
    "                    if directions_stage[i+1] == 1:\n",
    "                        directions_stage[i+1] += 1\n",
    "                else:\n",
    "                    if directions_stage[i+1] == 3:\n",
    "                        directions_stage[i+1] += 1\n",
    "            if col + r * i >= 0 and col + r * i < cols: \n",
    "                if edges[row][col + r * i]:\n",
    "                    if directions_stage[i+2] == 0 or directions_stage[i+2] == 2:\n",
    "                        directions_stage[i+2] += 1\n",
    "                elif image[row][col + r * i]:\n",
    "#                 elif image[row][col + r * i] <= threshold:\n",
    "                    if directions_stage[i+2] == 1:\n",
    "                        directions_stage[i+2] += 1\n",
    "                else:\n",
    "                    if directions_stage[i+2] == 3:\n",
    "                        directions_stage[i+2] += 1\n",
    "        for j in range(4):\n",
    "            if directions_stage[j] > 0 and initial_loc[j] < 0:\n",
    "                initial_loc[j] = r\n",
    "            if directions_stage[j] == 4:\n",
    "                final_widths[j] = r - initial_loc[j]\n",
    "        if min(final_widths) < 2 * max_width: \n",
    "            print(\"The final widths are \", final_widths)\n",
    "            return min(final_widths)   \n",
    "#         print(r, directions_stage, initial_loc)\n",
    "\n",
    "    return max_width\n",
    "\n",
    "print_img = cv2.imread(filename, 0)\n",
    "print(\"The original image at this location is: \\n \", print_img[196 - 10: 196 + 11, 297 - 10: 297 + 1])\n",
    "print_edges = cv2.Canny(print_img, 100, 200)\n",
    "print_img = minmaxScaler(print_img)\n",
    "print_edges = minmaxScaler(print_edges)\n",
    "print_img = thresholdImage(print_img, threshold)\n",
    "\n",
    "print_img[196][297] = 3 if print_img[196][297] else 2\n",
    "print_edges[196][297] = 3 if print_img[196][297] else 2\n",
    "print(\"The thresholded image at this location is: \\n \", print_img[196 - 10: 196 + 11, 297 - 10: 297 + 11])\n",
    "print(\"The edges at this location is: \\n \", print_edges[196 - 10: 196 + 11, 297 - 10: 297 + 111])\n",
    "print(line_width(filename, 196, 297))\n",
    "for i in [-1, 0, 1]:\n",
    "    for j in [-1, 0, 1]:\n",
    "        print(line_width(filename, 196 + i, 297 + j))\n",
    "print(line_width(filename, 190, 295))\n",
    "\n",
    "                       \n",
    "    "
   ]
  },
  {
   "cell_type": "code",
   "execution_count": 20,
   "metadata": {},
   "outputs": [],
   "source": [
    "from collections import deque  \n",
    "\n",
    "def bfs(img, visited, lines, row, col, threshold):\n",
    "    queue = deque([(row,col)])\n",
    "    while (queue):\n",
    "        i, j = queue.popleft()\n",
    "        visited[i][j] = True\n",
    "        for horizontal in [-1, 0, 1]:\n",
    "            for vertical in [-1, 0, 1]:\n",
    "                if ((i + horizontal >= 0 and i + horizontal < rows) and (j + vertical >= 0 and j + vertical < cols) and img[i + horizontal][j + vertical] <= threshold and not visited[i + horizontal][j + vertical]):\n",
    "                    lines.append([(j, rows - i),(j + vertical, rows - (i + horizontal))])\n",
    "                    queue.append((i + horizontal, j + vertical))\n",
    "                    visited[i + horizontal][j + vertical] = True\n",
    "                    "
   ]
  },
  {
   "cell_type": "code",
   "execution_count": 21,
   "metadata": {},
   "outputs": [],
   "source": [
    "lines = []\n",
    "for i in range (rows):\n",
    "    for j in range (cols):\n",
    "        if (not visited[i][j] and img[i][j] <= threshold):\n",
    "            bfs(img, visited, lines, i, j, threshold)\n",
    "        visited[i][j] = True"
   ]
  },
  {
   "cell_type": "code",
   "execution_count": 22,
   "metadata": {},
   "outputs": [],
   "source": [
    "output = \"\"\n",
    "for line in lines:\n",
    "    output += \"draw(\" + str(line[0]) + \"--\" + str(line[1]) + \");\\n\""
   ]
  },
  {
   "cell_type": "code",
   "execution_count": 23,
   "metadata": {},
   "outputs": [],
   "source": [
    "f = open(\"output.asy\", \"w\")\n",
    "f.write(output)\n",
    "f.close()"
   ]
  },
  {
   "cell_type": "code",
   "execution_count": 24,
   "metadata": {},
   "outputs": [],
   "source": [
    "# Code for AsymptoteException and run_asy_file were taken from https://github.com/azjps/ipython-asymptote\n",
    "import os\n",
    "import subprocess\n",
    "from IPython.display import Image, SVG\n",
    "\n",
    "class AsymptoteException(RuntimeError):\n",
    "    \"\"\"\n",
    "    Simple wrapper class for wrapping Asymptote\n",
    "    interpreter error messages in a stack trace.\n",
    "    \"\"\"\n",
    "    \n",
    "    def __init__(self, asy_err_msg):\n",
    "        self.asy_err_msg = asy_err_msg\n",
    "        \n",
    "    def __str__(self):\n",
    "        return str(self.asy_err_msg)\n",
    "\n",
    "def run_asy_file(asy_file, img_file=None, fmt=\"png\"):\n",
    "    \"\"\"Runs asymptote code located in asy_file and writes to\n",
    "    img_file if specified, otherwise use's asymptote's default\n",
    "    output location. Returns tuple (IPython.display, stdout).\n",
    "    \"\"\"\n",
    "    if not os.path.exists(asy_file):\n",
    "        raise IOError(\"File not found: \" + asy_file)\n",
    "    if img_file is None:\n",
    "        img_file = asy_file[:-3] + fmt\n",
    "          \n",
    "    asy_proc = subprocess.Popen([\"asy\", \"-noView\", \"-f\", fmt,\n",
    "                                 \"-o\", img_file, asy_file],\n",
    "                                stdout=subprocess.PIPE,\n",
    "                                stderr=subprocess.PIPE)\n",
    "    asy_ret_code = asy_proc.wait()\n",
    "    if asy_ret_code != 0:\n",
    "        raise AsymptoteException(asy_proc.stderr.read())\n",
    "        \n",
    "    asy_stdout = asy_proc.stdout.read()\n",
    "    \n",
    "    if fmt == \"svg\":\n",
    "        return SVG(filename=img_file), asy_stdout\n",
    "    return Image(filename=img_file), asy_stdout"
   ]
  },
  {
   "cell_type": "code",
   "execution_count": 25,
   "metadata": {},
   "outputs": [
    {
     "data": {
      "image/png": "[encoded data removed]",
      "text/plain": [
       "<IPython.core.display.Image object>"
      ]
     },
     "metadata": {},
     "output_type": "display_data"
    }
   ],
   "source": [
    "img_output, _ = run_asy_file(\"output.asy\")\n",
    "display(img_output)"
   ]
  },
  {
   "cell_type": "code",
   "execution_count": 28,
   "metadata": {},
   "outputs": [
    {
     "ename": "error",
     "evalue": "OpenCV(4.4.0) /private/var/folders/nz/vv4_9tw56nv9k3tkvyszvwg80000gn/T/pip-req-build-ucld1hvm/opencv/modules/imgproc/src/canny.cpp:829: error: (-215:Assertion failed) _src.depth() == CV_8U in function 'Canny'\n",
     "output_type": "error",
     "traceback": [
      "\u001b[0;31m---------------------------------------------------------------------------\u001b[0m",
      "\u001b[0;31merror\u001b[0m                                     Traceback (most recent call last)",
      "\u001b[0;32m<ipython-input-28-af513247e5e8>\u001b[0m in \u001b[0;36m<module>\u001b[0;34m\u001b[0m\n\u001b[0;32m----> 1\u001b[0;31m \u001b[0medges\u001b[0m \u001b[0;34m=\u001b[0m \u001b[0mcv2\u001b[0m\u001b[0;34m.\u001b[0m\u001b[0mCanny\u001b[0m\u001b[0;34m(\u001b[0m\u001b[0mimg\u001b[0m\u001b[0;34m,\u001b[0m\u001b[0;36m100\u001b[0m\u001b[0;34m,\u001b[0m\u001b[0;36m200\u001b[0m\u001b[0;34m)\u001b[0m\u001b[0;34m\u001b[0m\u001b[0;34m\u001b[0m\u001b[0m\n\u001b[0m\u001b[1;32m      2\u001b[0m \u001b[0mprint\u001b[0m\u001b[0;34m(\u001b[0m\u001b[0medges\u001b[0m\u001b[0;34m)\u001b[0m\u001b[0;34m\u001b[0m\u001b[0;34m\u001b[0m\u001b[0m\n",
      "\u001b[0;31merror\u001b[0m: OpenCV(4.4.0) /private/var/folders/nz/vv4_9tw56nv9k3tkvyszvwg80000gn/T/pip-req-build-ucld1hvm/opencv/modules/imgproc/src/canny.cpp:829: error: (-215:Assertion failed) _src.depth() == CV_8U in function 'Canny'\n"
     ]
    }
   ],
   "source": []
  },
  {
   "cell_type": "code",
   "execution_count": null,
   "metadata": {},
   "outputs": [],
   "source": []
  }
 ],
 "metadata": {
  "kernelspec": {
   "display_name": "Python 3",
   "language": "python",
   "name": "python3"
  },
  "language_info": {
   "codemirror_mode": {
    "name": "ipython",
    "version": 3
   },
   "file_extension": ".py",
   "mimetype": "text/x-python",
   "name": "python",
   "nbconvert_exporter": "python",
   "pygments_lexer": "ipython3",
   "version": "3.7.6"
  }
 },
 "nbformat": 4,
 "nbformat_minor": 2
}
