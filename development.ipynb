{
 "cells": [
  {
   "cell_type": "code",
   "execution_count": 2,
   "metadata": {},
   "outputs": [],
   "source": [
    "%matplotlib inline\n",
    "import numpy as np\n",
    "import cv2\n",
    "from matplotlib import pyplot as plt"
   ]
  },
  {
   "cell_type": "code",
   "execution_count": 19,
   "metadata": {},
   "outputs": [
    {
     "name": "stdout",
     "output_type": "stream",
     "text": [
      "[[255 255 255 108   3   0  20 247 255 247 255 242 255 255 252 251 255 254\n",
      "  252 254]\n",
      " [255 241 255 250  19   2  11  76 255 255 246 255 255 248 255 253 255 255\n",
      "  255 252]\n",
      " [235 255 239 255 162   0   0   0 205 236 255 244 252 255 238 255 255 255\n",
      "  255 253]\n",
      " [255 255 255 246 244  40   9   8  61 255 233 255 247 255 250 255 242 249\n",
      "  255 255]\n",
      " [255 241 255 249 255 198   0   8   0 150 252 255 255 237 255 247 255 255\n",
      "  254 249]\n",
      " [244 255 245 246 255 255  77   0   9   0 244 245 255 255 247 255 238 242\n",
      "  252 255]\n",
      " [255 252 243 255 249 240 255  12   3   0  67 255 227 255 254 255 255 255\n",
      "  255 240]\n",
      " [253 253 255 241 255 255 255 115   6   0   8 144 255 248 255 254 255 206\n",
      "  126  50]\n",
      " [251 251 252 255 255 255 255 247  66   0   0  14 232 255 232 153  65   0\n",
      "    3   0]\n",
      " [255 255 255 250 240 250 255 255 238  20   4   0  28  66   5   0   0   0\n",
      "    0   4]\n",
      " [247 236 242 255 255 249 246 255 241 136   7  11  20   0   4   7   0  57\n",
      "  131 206]\n",
      " [248 255 255 244 249 255 210 126  57   0   0   0   0   2  28  99 214 225\n",
      "  245 255]\n",
      " [252 244 244 229 162  66   8   0   0   1  11  17   0  12  37 255 255 255\n",
      "  255 255]\n",
      " [249 175  81  17   0   0   0   0  21  27 153 182   0   6   0 105 255 248\n",
      "  246 238]\n",
      " [ 22   0   0   3   0   0  49 127 204 255 238 254 110   0  11  18 204 255\n",
      "  255 254]\n",
      " [  2   0   0  21 103 202 252 251 255 241 255 255 242  39   2   0  21 228\n",
      "  255 251]\n",
      " [ 18  86 177 241 255 255 255 255 253 255 243 255 255 214   5   4   0  84\n",
      "  255 242]\n",
      " [230 246 255 255 255 247 247 252 255 250 255 255 254 245 137   0  13   0\n",
      "  171 255]\n",
      " [255 255 255 252 250 253 255 255 255 253 255 250 255 255 255  65   0   8\n",
      "    0 231]\n",
      " [246 244 246 252 255 255 255 252 248 255 254 240 255 248 255 199  21  12\n",
      "    0  67]]\n"
     ]
    },
    {
     "data": {
      "image/png": "[encoded data removed]",
      "text/plain": [
       "<Figure size 432x288 with 1 Axes>"
      ]
     },
     "metadata": {
      "needs_background": "light"
     },
     "output_type": "display_data"
    }
   ],
   "source": [
    "filename = 'tests/001.jpg'\n",
    "threshold = 0.1\n",
    "img = cv2.imread(filename, 0)\n",
    "edges = cv2.Canny(img,100,200)\n",
    "rows = img.shape[0]\n",
    "cols = img.shape[1]\n",
    "\n",
    "plt.imshow(img[520:550, 470:500], cmap='gray')\n",
    "print(img[320:340, 360:380])\n",
    "plt.show()\n"
   ]
  },
  {
   "cell_type": "code",
   "execution_count": 4,
   "metadata": {},
   "outputs": [
    {
     "name": "stdout",
     "output_type": "stream",
     "text": [
      "[[1.         1.         1.         1.         1.         1.\n",
      "  1.         1.         1.         1.         1.         1.\n",
      "  1.         1.         1.        ]\n",
      " [1.         1.         1.         1.         1.         1.\n",
      "  1.         1.         1.         1.         1.         1.\n",
      "  0.92941176 0.98823529 1.        ]\n",
      " [1.         1.         1.         1.         1.         1.\n",
      "  1.         1.         1.         1.         1.         1.\n",
      "  1.         1.         1.        ]\n",
      " [1.         1.         1.         1.         1.         1.\n",
      "  1.         1.         1.         1.         1.         1.\n",
      "  0.96862745 0.95686275 1.        ]\n",
      " [1.         1.         1.         1.         1.         1.\n",
      "  1.         1.         1.         1.         1.         1.\n",
      "  1.         1.         0.95686275]\n",
      " [1.         1.         1.         1.         1.         1.\n",
      "  1.         1.         1.         1.         1.         1.\n",
      "  0.97254902 0.95686275 1.        ]\n",
      " [1.         1.         1.         1.         1.         1.\n",
      "  1.         1.         1.         1.         1.         1.\n",
      "  1.         0.97254902 1.        ]\n",
      " [1.         1.         1.         1.         1.         1.\n",
      "  1.         1.         1.         1.         1.         1.\n",
      "  0.97647059 1.         0.96862745]\n",
      " [1.         0.99607843 0.99607843 0.99215686 1.         1.\n",
      "  1.         1.         1.         1.         1.         1.\n",
      "  1.         0.9254902  1.        ]\n",
      " [0.98823529 0.99607843 1.         1.         0.98039216 0.98039216\n",
      "  0.98431373 0.99215686 0.99607843 1.         1.         1.\n",
      "  0.94509804 1.         1.        ]\n",
      " [0.56078431 0.57647059 0.58431373 0.59215686 0.62745098 0.63137255\n",
      "  0.63921569 0.65098039 0.65882353 0.67058824 0.67843137 0.68235294\n",
      "  0.75294118 0.70196078 0.69803922]\n",
      " [0.         0.00392157 0.00784314 0.01176471 0.         0.\n",
      "  0.         0.         0.         0.         0.         0.\n",
      "  0.         0.01960784 0.00784314]\n",
      " [0.         0.         0.         0.         0.02352941 0.01960784\n",
      "  0.01568627 0.01176471 0.00784314 0.         0.         0.\n",
      "  0.         0.08235294 0.        ]\n",
      " [0.42352941 0.41176471 0.4        0.39607843 0.29803922 0.29411765\n",
      "  0.29019608 0.27843137 0.26666667 0.25882353 0.25098039 0.24705882\n",
      "  0.16078431 0.25490196 0.20784314]\n",
      " [1.         0.99215686 0.98823529 0.98431373 1.         1.\n",
      "  1.         1.         1.         1.         1.         1.\n",
      "  0.99607843 1.         1.        ]\n",
      " [1.         1.         1.         1.         0.99607843 0.99607843\n",
      "  0.99607843 0.99607843 1.         1.         1.         1.\n",
      "  1.         0.95294118 0.94901961]\n",
      " [1.         1.         1.         1.         1.         1.\n",
      "  1.         1.         1.         1.         1.         1.\n",
      "  1.         1.         1.        ]\n",
      " [1.         1.         1.         1.         1.         1.\n",
      "  1.         1.         1.         1.         1.         1.\n",
      "  1.         1.         1.        ]\n",
      " [1.         1.         1.         1.         1.         1.\n",
      "  1.         1.         1.         1.         1.         1.\n",
      "  1.         1.         1.        ]\n",
      " [1.         1.         1.         1.         1.         1.\n",
      "  1.         1.         1.         1.         1.         1.\n",
      "  1.         1.         1.        ]\n",
      " [1.         1.         1.         1.         1.         1.\n",
      "  1.         1.         1.         1.         1.         1.\n",
      "  1.         1.         1.        ]\n",
      " [1.         1.         1.         1.         1.         1.\n",
      "  1.         1.         1.         1.         1.         1.\n",
      "  1.         1.         1.        ]\n",
      " [1.         1.         1.         1.         1.         1.\n",
      "  1.         1.         1.         1.         1.         1.\n",
      "  1.         1.         1.        ]\n",
      " [1.         1.         1.         1.         1.         1.\n",
      "  1.         1.         1.         1.         1.         1.\n",
      "  1.         1.         1.        ]\n",
      " [1.         1.         1.         1.         1.         1.\n",
      "  1.         1.         1.         1.         1.         1.\n",
      "  1.         1.         1.        ]\n",
      " [1.         1.         1.         1.         1.         1.\n",
      "  1.         1.         1.         1.         1.         1.\n",
      "  1.         1.         1.        ]\n",
      " [1.         1.         1.         1.         1.         1.\n",
      "  1.         1.         1.         1.         1.         1.\n",
      "  1.         1.         1.        ]\n",
      " [1.         1.         1.         1.         1.         1.\n",
      "  1.         1.         1.         1.         1.         1.\n",
      "  1.         1.         1.        ]\n",
      " [1.         1.         1.         1.         1.         1.\n",
      "  1.         1.         1.         1.         1.         1.\n",
      "  1.         1.         1.        ]\n",
      " [1.         1.         1.         1.         1.         1.\n",
      "  1.         1.         1.         1.         1.         1.\n",
      "  1.         1.         1.        ]]\n",
      "[[1. 0. 0. 1. 0. 0. 0. 0. 0. 0. 0. 0. 0. 0. 0.]\n",
      " [1. 0. 0. 1. 1. 0. 0. 0. 0. 0. 0. 0. 0. 0. 0.]\n",
      " [1. 1. 0. 0. 1. 0. 0. 0. 0. 0. 0. 0. 0. 0. 0.]\n",
      " [0. 1. 0. 0. 1. 1. 0. 0. 0. 0. 0. 0. 0. 0. 0.]\n",
      " [0. 1. 1. 0. 0. 1. 0. 0. 0. 0. 0. 0. 0. 0. 0.]\n",
      " [0. 0. 1. 0. 0. 1. 1. 0. 0. 0. 0. 0. 0. 0. 0.]\n",
      " [0. 0. 1. 1. 0. 0. 1. 1. 0. 0. 0. 0. 0. 0. 0.]\n",
      " [0. 0. 0. 1. 0. 0. 0. 1. 0. 0. 0. 0. 0. 0. 0.]\n",
      " [0. 0. 0. 1. 1. 0. 0. 1. 1. 0. 0. 0. 0. 0. 0.]\n",
      " [0. 0. 0. 0. 1. 1. 0. 0. 1. 0. 0. 0. 0. 0. 0.]\n",
      " [0. 0. 0. 0. 0. 1. 0. 0. 1. 1. 0. 0. 0. 0. 0.]\n",
      " [0. 0. 0. 0. 0. 1. 1. 0. 0. 1. 0. 0. 0. 0. 0.]\n",
      " [0. 0. 0. 0. 0. 0. 1. 0. 0. 1. 1. 0. 0. 0. 0.]\n",
      " [0. 0. 0. 0. 0. 0. 1. 1. 0. 0. 1. 1. 0. 0. 0.]\n",
      " [0. 0. 0. 0. 0. 0. 0. 1. 1. 0. 0. 1. 0. 0. 0.]\n",
      " [0. 0. 0. 0. 0. 0. 0. 0. 1. 0. 0. 1. 1. 0. 0.]\n",
      " [0. 0. 0. 0. 0. 0. 0. 0. 1. 1. 0. 0. 1. 0. 0.]\n",
      " [0. 0. 0. 0. 0. 0. 0. 0. 0. 1. 0. 0. 1. 1. 0.]\n",
      " [0. 0. 0. 0. 0. 0. 0. 0. 0. 1. 1. 0. 0. 1. 1.]\n",
      " [0. 0. 0. 0. 0. 0. 0. 0. 0. 0. 1. 1. 0. 0. 1.]]\n"
     ]
    }
   ],
   "source": [
    "# MinMax Scaler\n",
    "def minmaxScaler(image):\n",
    "    minPixel = np.amin(image)\n",
    "    maxPixel = np.amax(image)\n",
    "    image = (image - minPixel) / (maxPixel - minPixel)\n",
    "    return image\n",
    "\n",
    "img = minmaxScaler(img)\n",
    "# print(img[190:210, 290:305])\n",
    "edges = minmaxScaler(edges)\n",
    "# minPixelEdges = np.amin(edges)\n",
    "# maxPixelEdges = np.amax(edges)\n",
    "# edges = (edges - minPixelEdges)/(maxPixelEdges - minPixelEdges)\n",
    "print(img[520:550, 460:475])\n",
    "print(edges[190:210, 290:305]) \n",
    "new_array = np.array(edges)\n"
   ]
  },
  {
   "cell_type": "code",
   "execution_count": 9,
   "metadata": {},
   "outputs": [
    {
     "name": "stdout",
     "output_type": "stream",
     "text": [
      "[[0 0 0 0 0 1 0 0 0 0 0 0 0 0 0 0 0 0 0 0]\n",
      " [0 0 0 0 0 0 0 0 0 0 0 0 0 0 0 0 0 0 0 0]\n",
      " [0 0 0 0 0 1 1 1 0 0 0 0 0 0 0 0 0 0 0 0]\n",
      " [0 0 0 0 0 0 0 0 0 0 0 0 0 0 0 0 0 0 0 0]\n",
      " [0 0 0 0 0 0 1 0 1 0 0 0 0 0 0 0 0 0 0 0]\n",
      " [0 0 0 0 0 0 0 1 0 1 0 0 0 0 0 0 0 0 0 0]\n",
      " [0 0 0 0 0 0 0 0 0 1 0 0 0 0 0 0 0 0 0 0]\n",
      " [0 0 0 0 0 0 0 0 0 1 0 0 0 0 0 0 0 0 0 0]\n",
      " [0 0 0 0 0 0 0 0 0 1 1 0 0 0 0 0 0 1 0 1]\n",
      " [0 0 0 0 0 0 0 0 0 0 0 1 0 0 0 1 1 1 1 0]\n",
      " [0 0 0 0 0 0 0 0 0 0 0 0 0 1 0 0 1 0 0 0]\n",
      " [0 0 0 0 0 0 0 0 0 1 1 1 1 0 0 0 0 0 0 0]\n",
      " [0 0 0 0 0 0 0 1 1 0 0 0 1 0 0 0 0 0 0 0]\n",
      " [0 0 0 0 1 1 1 1 0 0 0 0 1 0 1 0 0 0 0 0]\n",
      " [0 1 1 0 1 1 0 0 0 0 0 0 0 1 0 0 0 0 0 0]\n",
      " [0 1 1 0 0 0 0 0 0 0 0 0 0 0 0 1 0 0 0 0]\n",
      " [0 0 0 0 0 0 0 0 0 0 0 0 0 0 0 0 1 0 0 0]\n",
      " [0 0 0 0 0 0 0 0 0 0 0 0 0 0 0 1 0 1 0 0]\n",
      " [0 0 0 0 0 0 0 0 0 0 0 0 0 0 0 0 1 0 1 0]\n",
      " [0 0 0 0 0 0 0 0 0 0 0 0 0 0 0 0 0 0 1 0]]\n"
     ]
    },
    {
     "data": {
      "text/plain": [
       "True"
      ]
     },
     "execution_count": 9,
     "metadata": {},
     "output_type": "execute_result"
    }
   ],
   "source": [
    "# Threshold Image\n",
    "def thresholdImage(image, threshold):\n",
    "    for i in range(len(image)):\n",
    "        for j in range(len(image[i])):\n",
    "            image[i][j] = int(image[i][j] <= threshold)\n",
    "    return image\n",
    "\n",
    "img = thresholdImage(img, threshold)\n",
    "print(img[320:340, 360:380])\n",
    "for i in range(len(img)):\n",
    "    for j in range(len(img[i])):\n",
    "        img[i][j] = (255 * img[i][j])\n",
    "\n",
    "cv2.imwrite('tests/houghcircles001.jpg',img)"
   ]
  },
  {
   "cell_type": "code",
   "execution_count": 10,
   "metadata": {},
   "outputs": [
    {
     "name": "stdout",
     "output_type": "stream",
     "text": [
      "29\n"
     ]
    },
    {
     "data": {
      "text/plain": [
       "True"
      ]
     },
     "execution_count": 10,
     "metadata": {},
     "output_type": "execute_result"
    }
   ],
   "source": [
    "img = cv2.imread('tests/003.png')\n",
    "gray = cv2.cvtColor(img,cv2.COLOR_BGR2GRAY)\n",
    "edges = cv2.Canny(gray,50,150,apertureSize = 3)\n",
    "cv2.imwrite('tests/003edges.png',edges)\n",
    "lines = cv2.HoughLines(edges, 1, np.pi/180, 125)\n",
    "print(len(lines))\n",
    "for line in lines:\n",
    "    for rho,theta in line:\n",
    "        a = np.cos(theta)\n",
    "        b = np.sin(theta)\n",
    "        x0 = a*rho\n",
    "        y0 = b*rho\n",
    "        x1 = int(x0 + 1000*(-b))\n",
    "        y1 = int(y0 + 1000*(a))\n",
    "        x2 = int(x0 - 1000*(-b))\n",
    "        y2 = int(y0 - 1000*(a))\n",
    "\n",
    "        cv2.line(img,(x1,y1),(x2,y2),(0,0,255),2)\n",
    "\n",
    "cv2.imwrite('tests/houghlines003.png',img)\n"
   ]
  },
  {
   "cell_type": "code",
   "execution_count": 11,
   "metadata": {},
   "outputs": [
    {
     "data": {
      "text/plain": [
       "True"
      ]
     },
     "execution_count": 11,
     "metadata": {},
     "output_type": "execute_result"
    }
   ],
   "source": [
    "img = cv2.imread('tests/dave.jpg')\n",
    "gray = cv2.cvtColor(img,cv2.COLOR_BGR2GRAY)\n",
    "edges = cv2.Canny(gray,50,150,apertureSize = 3)\n",
    "minLineLength = 100\n",
    "maxLineGap = 10\n",
    "lines = cv2.HoughLinesP(edges,1,np.pi/180,100,minLineLength,maxLineGap)\n",
    "for line in lines:\n",
    "    for x1,y1,x2,y2 in line:\n",
    "        cv2.line(img,(x1,y1),(x2,y2),(0,255,0),2)\n",
    "\n",
    "cv2.imwrite('tests/houghlines5.jpg',img)"
   ]
  },
  {
   "cell_type": "code",
   "execution_count": 12,
   "metadata": {},
   "outputs": [
    {
     "name": "stdout",
     "output_type": "stream",
     "text": [
      "1\n",
      "1\n"
     ]
    },
    {
     "data": {
      "text/plain": [
       "True"
      ]
     },
     "execution_count": 12,
     "metadata": {},
     "output_type": "execute_result"
    }
   ],
   "source": [
    "img = cv2.imread('tests/001.jpg', 0)\n",
    "img = cv2.medianBlur(img,5)\n",
    "cimg = cv2.cvtColor(img,cv2.COLOR_GRAY2BGR)\n",
    "\n",
    "circles = cv2.HoughCircles(img,cv2.HOUGH_GRADIENT,1,40,\n",
    "                            param1=200,param2=75,minRadius=0,maxRadius=0)\n",
    "\n",
    "circles = np.uint16(np.around(circles))\n",
    "print(len(circles))\n",
    "counter = 0\n",
    "for i in circles[0]:\n",
    "    # draw the outer circle\n",
    "    cv2.circle(cimg,(i[0],i[1]),i[2],(0,255,0),2)\n",
    "    # draw the center of the circle\n",
    "    cv2.circle(cimg,(i[0],i[1]),2,(0,0,255),3)\n",
    "    counter += 1\n",
    "print(counter)\n",
    "cv2.imwrite('tests/houghcircles001.jpg',cimg)"
   ]
  },
  {
   "cell_type": "code",
   "execution_count": 13,
   "metadata": {},
   "outputs": [
    {
     "name": "stdout",
     "output_type": "stream",
     "text": [
      "(684, 1037)\n"
     ]
    }
   ],
   "source": [
    "visited = np.array([[False for i in range (cols)] for j in range (rows)])\n",
    "print(visited.shape)"
   ]
  },
  {
   "cell_type": "code",
   "execution_count": 15,
   "metadata": {},
   "outputs": [
    {
     "name": "stdout",
     "output_type": "stream",
     "text": [
      "The original image at this location is: \n",
      "  [[  0  39 255 246 255 245 249 255 255 253 255 251 255 255 254 247 246 255\n",
      "  255 255 255]\n",
      " [ 19   0 100 255 255 255 255 247 250 250 250 255 245 255 255 248 255 255\n",
      "  255 255 255]\n",
      " [  0   9   1 220 255 255 243 246 255 251 255 255 242 248 251 246 255 250\n",
      "  255 255 255]\n",
      " [  5   4   1  56 230 251 255 254 246 255 246 255 255 252 251 255 254 245\n",
      "  255 255 255]\n",
      " [158   0   0  23 181 127 181 255 250 255 255 250 243 255 254 234 252 255\n",
      "  255 255 255]\n",
      " [255  52   0   0   0   6  31  49  60 203 246 255 175  91  77 148 255 243\n",
      "  255 255 255]\n",
      " [254 149   0  22   0   1   0   0   0  64 255 133  24  10   0   0 104 248\n",
      "  255 255 255]\n",
      " [122   0   1   0   8   0   0  10   0   0 184   5  11   0   0   3   0 182\n",
      "  255 255 255]\n",
      " [ 12   0  15   0  12   0   8  22   0  15  40   0   0 116 123   8   0 165\n",
      "  255 255 255]\n",
      " [  0   0   0   0   2   3   6 120   5   0   0  13  12 128  41   0   0 188\n",
      "  255 255 255]\n",
      " [ 10   8   7  16   0   0   0 123  13   0   0   7   0  23   0   7  85 245\n",
      "  252 252 253]\n",
      " [  3   0   0   0   1   1   3  22   0   0  10   0   0   0  11   0   0   0\n",
      "    0   0   0]\n",
      " [  0   0   0   4   1   0  12   0   3  14   0   7   2   1   1   8   2  12\n",
      "    3   3   2]\n",
      " [ 42  22   0  22   0   0   2   2   9   0  15   1   0   0  25   0   0   9\n",
      "    8   7   7]\n",
      " [220  14   0   0   0   7   5  10   0   5   3   0   6   0  13   0  90 252\n",
      "  255 255 255]\n",
      " [255 255  91   0   8   0   0   0  24 176 255 165   4  12   0   8  57 248\n",
      "  253 253 253]\n",
      " [255 255 255 241 213 193 193 213 241 255 255 255 220 146 130 188 245 255\n",
      "  255 255 255]\n",
      " [255 255 255 255 255 255 255 255 255 255 243 255 255 250 245 255 255 250\n",
      "  255 255 255]\n",
      " [255 255 253 254 255 255 255 255 254 253 255 251 248 253 255 255 255 255\n",
      "  255 255 255]\n",
      " [255 255 255 255 251 248 248 251 255 255 255 250 247 255 255 254 250 254\n",
      "  255 255 255]\n",
      " [255 255 253 255 255 255 255 255 255 253 254 255 255 255 255 255 253 250\n",
      "  255 255 255]]\n",
      "The thresholded image at this location is: \n",
      "  [[1. 0. 0. 0. 0. 0. 0. 0. 0. 0. 0. 0. 0. 0. 0. 0. 0. 0. 0. 0. 0.]\n",
      " [1. 1. 0. 0. 0. 0. 0. 0. 0. 0. 0. 0. 0. 0. 0. 0. 0. 0. 0. 0. 0.]\n",
      " [1. 1. 1. 0. 0. 0. 0. 0. 0. 0. 0. 0. 0. 0. 0. 0. 0. 0. 0. 0. 0.]\n",
      " [1. 1. 1. 0. 0. 0. 0. 0. 0. 0. 0. 0. 0. 0. 0. 0. 0. 0. 0. 0. 0.]\n",
      " [0. 1. 1. 1. 0. 0. 0. 0. 0. 0. 0. 0. 0. 0. 0. 0. 0. 0. 0. 0. 0.]\n",
      " [0. 0. 1. 1. 1. 1. 0. 0. 0. 0. 0. 0. 0. 0. 0. 0. 0. 0. 0. 0. 0.]\n",
      " [0. 0. 1. 1. 1. 1. 1. 1. 1. 0. 0. 0. 1. 1. 1. 1. 0. 0. 0. 0. 0.]\n",
      " [0. 1. 1. 1. 1. 1. 1. 1. 1. 1. 0. 1. 1. 1. 1. 1. 1. 0. 0. 0. 0.]\n",
      " [1. 1. 1. 1. 1. 1. 1. 1. 1. 1. 0. 1. 1. 0. 0. 1. 1. 0. 0. 0. 0.]\n",
      " [1. 1. 1. 1. 1. 1. 1. 0. 1. 1. 1. 1. 1. 0. 0. 1. 1. 0. 0. 0. 0.]\n",
      " [1. 1. 1. 1. 1. 1. 1. 0. 1. 1. 3. 1. 1. 1. 1. 1. 0. 0. 0. 0. 0.]\n",
      " [1. 1. 1. 1. 1. 1. 1. 1. 1. 1. 1. 1. 1. 1. 1. 1. 1. 1. 1. 1. 1.]\n",
      " [1. 1. 1. 1. 1. 1. 1. 1. 1. 1. 1. 1. 1. 1. 1. 1. 1. 1. 1. 1. 1.]\n",
      " [0. 1. 1. 1. 1. 1. 1. 1. 1. 1. 1. 1. 1. 1. 1. 1. 1. 1. 1. 1. 1.]\n",
      " [0. 1. 1. 1. 1. 1. 1. 1. 1. 1. 1. 1. 1. 1. 1. 1. 0. 0. 0. 0. 0.]\n",
      " [0. 0. 0. 1. 1. 1. 1. 1. 1. 0. 0. 0. 1. 1. 1. 1. 0. 0. 0. 0. 0.]\n",
      " [0. 0. 0. 0. 0. 0. 0. 0. 0. 0. 0. 0. 0. 0. 0. 0. 0. 0. 0. 0. 0.]\n",
      " [0. 0. 0. 0. 0. 0. 0. 0. 0. 0. 0. 0. 0. 0. 0. 0. 0. 0. 0. 0. 0.]\n",
      " [0. 0. 0. 0. 0. 0. 0. 0. 0. 0. 0. 0. 0. 0. 0. 0. 0. 0. 0. 0. 0.]\n",
      " [0. 0. 0. 0. 0. 0. 0. 0. 0. 0. 0. 0. 0. 0. 0. 0. 0. 0. 0. 0. 0.]\n",
      " [0. 0. 0. 0. 0. 0. 0. 0. 0. 0. 0. 0. 0. 0. 0. 0. 0. 0. 0. 0. 0.]]\n",
      "The edges at this location is: \n",
      "  [[0. 1. 1. 0. 0. 0. 0. 0. 0. 0. 0. 0. 0. 0. 0. 0. 0. 0. 0. 0. 0.]\n",
      " [0. 0. 1. 0. 0. 0. 0. 0. 0. 0. 0. 0. 0. 0. 0. 0. 0. 0. 0. 0. 0.]\n",
      " [0. 0. 1. 1. 0. 0. 0. 0. 0. 0. 0. 0. 0. 0. 0. 0. 0. 0. 0. 0. 0.]\n",
      " [1. 0. 0. 1. 1. 0. 0. 0. 0. 0. 0. 0. 0. 0. 0. 0. 0. 0. 0. 0. 0.]\n",
      " [1. 0. 0. 0. 1. 1. 1. 0. 0. 0. 0. 0. 0. 0. 0. 0. 0. 0. 0. 0. 0.]\n",
      " [1. 1. 0. 0. 0. 0. 0. 1. 1. 1. 0. 0. 1. 1. 1. 1. 0. 0. 0. 0. 0.]\n",
      " [0. 1. 0. 0. 0. 0. 0. 0. 0. 1. 1. 1. 1. 0. 0. 1. 1. 0. 0. 0. 0.]\n",
      " [1. 1. 0. 0. 0. 0. 0. 0. 0. 1. 0. 1. 0. 0. 0. 0. 0. 1. 0. 0. 0.]\n",
      " [1. 0. 0. 0. 0. 0. 1. 1. 0. 0. 0. 0. 0. 0. 1. 0. 0. 1. 0. 0. 0.]\n",
      " [0. 0. 0. 0. 0. 0. 1. 0. 1. 0. 0. 0. 0. 0. 1. 0. 0. 1. 0. 0. 0.]\n",
      " [0. 0. 0. 0. 0. 0. 1. 0. 1. 0. 3. 0. 0. 0. 0. 0. 0. 1. 1. 1. 1.]\n",
      " [0. 0. 0. 0. 0. 0. 1. 1. 1. 0. 0. 0. 0. 0. 0. 0. 0. 0. 0. 0. 0.]\n",
      " [0. 0. 0. 0. 0. 0. 0. 0. 0. 0. 0. 0. 0. 0. 0. 0. 0. 0. 0. 0. 0.]\n",
      " [0. 0. 0. 0. 0. 0. 0. 0. 0. 0. 0. 0. 0. 0. 0. 0. 0. 0. 1. 1. 1.]\n",
      " [1. 1. 0. 0. 0. 0. 0. 0. 0. 0. 0. 0. 0. 0. 0. 0. 1. 1. 0. 0. 0.]\n",
      " [0. 1. 1. 1. 0. 0. 0. 0. 1. 1. 1. 1. 1. 0. 0. 0. 1. 0. 0. 0. 0.]\n",
      " [0. 0. 0. 0. 1. 1. 1. 1. 0. 0. 0. 0. 1. 1. 1. 1. 1. 0. 0. 0. 0.]\n",
      " [0. 0. 0. 0. 0. 0. 0. 0. 0. 0. 0. 0. 0. 0. 0. 0. 0. 0. 0. 0. 0.]\n",
      " [0. 0. 0. 0. 0. 0. 0. 0. 0. 0. 0. 0. 0. 0. 0. 0. 0. 0. 0. 0. 0.]\n",
      " [0. 0. 0. 0. 0. 0. 0. 0. 0. 0. 0. 0. 0. 0. 0. 0. 0. 0. 0. 0. 0.]\n",
      " [0. 0. 0. 0. 0. 0. 0. 0. 0. 0. 0. 0. 0. 0. 0. 0. 0. 0. 0. 0. 0.]]\n",
      "-1\n",
      "Row = 529 and column = 487 results in -1\n",
      "Row = 529 and column = 488 results in -1\n",
      "Row = 529 and column = 489 results in -1\n",
      "Row = 530 and column = 487 results in -1\n",
      "Row = 530 and column = 488 results in -1\n",
      "Row = 530 and column = 489 results in -1\n",
      "Row = 531 and column = 487 results in -1\n",
      "Row = 531 and column = 488 results in -1\n",
      "Row = 531 and column = 489 results in -1\n",
      "-1\n"
     ]
    },
    {
     "data": {
      "image/png": "[encoded data removed]",
      "text/plain": [
       "<Figure size 432x288 with 1 Axes>"
      ]
     },
     "metadata": {
      "needs_background": "light"
     },
     "output_type": "display_data"
    }
   ],
   "source": [
    "def line_width(filename, row, col):\n",
    "    image = cv2.imread(filename, 0)\n",
    "    edges = cv2.Canny(image, 100, 200)\n",
    "    image = minmaxScaler(image)\n",
    "    image = thresholdImage(image, threshold)\n",
    "    edges = minmaxScaler(edges)\n",
    "    \n",
    "#     print(print_img[row - 5: row + 6, col - 5: col + 6])\n",
    "#     print(edges[row - 1: row + 2, col - 1: col + 2])\n",
    "#     print(edges[row - 10: row + 11, col - 10: col + 11])\n",
    "#     print(np.array(edges).shape)\n",
    "    if not edges[row][col]: \n",
    "        return -1\n",
    "    max_width = max(rows, cols)\n",
    "#     directions = [0 for i in range(4)]\n",
    "    initial_loc = [-1 for i in range(4)]\n",
    "    directions_stage = [0 for i in range(4)]\n",
    "    final_widths = [2 * max_width for i in range(4)]\n",
    "    for r in range(max_width):\n",
    "        for i in [-1, 1]:\n",
    "            if row + r * i >= 0 and row + r * i < rows:\n",
    "                if edges[row + r * i][col]:\n",
    "                    if directions_stage[i+1] == 0 or directions_stage[i+1] == 2:\n",
    "                        directions_stage[i+1] += 1\n",
    "                elif image[row + r * i][col]:\n",
    "#                 elif image[row + r * i][col] <= threshold:\n",
    "                    if directions_stage[i+1] == 1:\n",
    "                        directions_stage[i+1] += 1\n",
    "                else:\n",
    "                    if directions_stage[i+1] == 3:\n",
    "                        directions_stage[i+1] += 1\n",
    "            if col + r * i >= 0 and col + r * i < cols: \n",
    "                if edges[row][col + r * i]:\n",
    "                    if directions_stage[i+2] == 0 or directions_stage[i+2] == 2:\n",
    "                        directions_stage[i+2] += 1\n",
    "                elif image[row][col + r * i]:\n",
    "#                 elif image[row][col + r * i] <= threshold:\n",
    "                    if directions_stage[i+2] == 1:\n",
    "                        directions_stage[i+2] += 1\n",
    "                else:\n",
    "                    if directions_stage[i+2] == 3:\n",
    "                        directions_stage[i+2] += 1\n",
    "        for j in range(4):\n",
    "            if directions_stage[j] > 0 and initial_loc[j] < 0:\n",
    "                initial_loc[j] = r\n",
    "            if directions_stage[j] == 4:\n",
    "                final_widths[j] = r - initial_loc[j]\n",
    "        if min(final_widths) < 2 * max_width: \n",
    "            print(\"The final widths are \", final_widths)\n",
    "            return min(final_widths)   \n",
    "#         print(r, directions_stage, initial_loc)\n",
    "\n",
    "    return max_width\n",
    "\n",
    "row = 530\n",
    "col = 488\n",
    "# [520:540, 475:500]\n",
    "print_img = cv2.imread(filename, 0)\n",
    "print(\"The original image at this location is: \\n \", print_img[row - 10: row + 11, col - 10: col + 11])\n",
    "print_edges = cv2.Canny(print_img, 100, 200)\n",
    "plt.imshow(print_edges[row - 20: row + 21, col - 20: col + 21], cmap='gray')\n",
    "print_img = minmaxScaler(print_img)\n",
    "print_edges = minmaxScaler(print_edges)\n",
    "print_img = thresholdImage(print_img, threshold)\n",
    "\n",
    "print_img[row][col] = 3 if print_img[row][col] else 2\n",
    "print_edges[row][col] = 3 if print_img[row][col] else 2\n",
    "print(\"The thresholded image at this location is: \\n \", print_img[row - 10: row + 11, col - 10: col + 11])\n",
    "print(\"The edges at this location is: \\n \", print_edges[row - 10: row + 11, col - 10: col + 11])\n",
    "print(line_width(filename, row, col))\n",
    "for i in [-1, 0, 1]:\n",
    "    for j in [-1, 0, 1]:\n",
    "        print(\"Row = {} and column = {} results in {}\".format(row + i, col + j, line_width(filename, row + i, col + j)))\n",
    "print(line_width(filename, 190, 295))\n",
    "\n",
    "                       \n",
    "    "
   ]
  },
  {
   "cell_type": "code",
   "execution_count": 20,
   "metadata": {},
   "outputs": [],
   "source": [
    "from collections import deque  \n",
    "\n",
    "def bfs(img, visited, lines, row, col, threshold):\n",
    "    queue = deque([(row,col)])\n",
    "    while (queue):\n",
    "        i, j = queue.popleft()\n",
    "        visited[i][j] = True\n",
    "        for horizontal in [-1, 0, 1]:\n",
    "            for vertical in [-1, 0, 1]:\n",
    "                if ((i + horizontal >= 0 and i + horizontal < rows) and (j + vertical >= 0 and j + vertical < cols) and img[i + horizontal][j + vertical] <= threshold and not visited[i + horizontal][j + vertical]):\n",
    "                    lines.append([(j, rows - i),(j + vertical, rows - (i + horizontal))])\n",
    "                    queue.append((i + horizontal, j + vertical))\n",
    "                    visited[i + horizontal][j + vertical] = True\n",
    "                    "
   ]
  },
  {
   "cell_type": "code",
   "execution_count": 21,
   "metadata": {},
   "outputs": [],
   "source": [
    "lines = []\n",
    "for i in range (rows):\n",
    "    for j in range (cols):\n",
    "        if (not visited[i][j] and img[i][j] <= threshold):\n",
    "            bfs(img, visited, lines, i, j, threshold)\n",
    "        visited[i][j] = True"
   ]
  },
  {
   "cell_type": "code",
   "execution_count": 22,
   "metadata": {},
   "outputs": [],
   "source": [
    "output = \"\"\n",
    "for line in lines:\n",
    "    output += \"draw(\" + str(line[0]) + \"--\" + str(line[1]) + \");\\n\""
   ]
  },
  {
   "cell_type": "code",
   "execution_count": 23,
   "metadata": {},
   "outputs": [],
   "source": [
    "f = open(\"output.asy\", \"w\")\n",
    "f.write(output)\n",
    "f.close()"
   ]
  },
  {
   "cell_type": "code",
   "execution_count": 24,
   "metadata": {},
   "outputs": [],
   "source": [
    "# Code for AsymptoteException and run_asy_file were taken from https://github.com/azjps/ipython-asymptote\n",
    "import os\n",
    "import subprocess\n",
    "from IPython.display import Image, SVG\n",
    "\n",
    "class AsymptoteException(RuntimeError):\n",
    "    \"\"\"\n",
    "    Simple wrapper class for wrapping Asymptote\n",
    "    interpreter error messages in a stack trace.\n",
    "    \"\"\"\n",
    "    \n",
    "    def __init__(self, asy_err_msg):\n",
    "        self.asy_err_msg = asy_err_msg\n",
    "        \n",
    "    def __str__(self):\n",
    "        return str(self.asy_err_msg)\n",
    "\n",
    "def run_asy_file(asy_file, img_file=None, fmt=\"png\"):\n",
    "    \"\"\"Runs asymptote code located in asy_file and writes to\n",
    "    img_file if specified, otherwise use's asymptote's default\n",
    "    output location. Returns tuple (IPython.display, stdout).\n",
    "    \"\"\"\n",
    "    if not os.path.exists(asy_file):\n",
    "        raise IOError(\"File not found: \" + asy_file)\n",
    "    if img_file is None:\n",
    "        img_file = asy_file[:-3] + fmt\n",
    "          \n",
    "    asy_proc = subprocess.Popen([\"asy\", \"-noView\", \"-f\", fmt,\n",
    "                                 \"-o\", img_file, asy_file],\n",
    "                                stdout=subprocess.PIPE,\n",
    "                                stderr=subprocess.PIPE)\n",
    "    asy_ret_code = asy_proc.wait()\n",
    "    if asy_ret_code != 0:\n",
    "        raise AsymptoteException(asy_proc.stderr.read())\n",
    "        \n",
    "    asy_stdout = asy_proc.stdout.read()\n",
    "    \n",
    "    if fmt == \"svg\":\n",
    "        return SVG(filename=img_file), asy_stdout\n",
    "    return Image(filename=img_file), asy_stdout"
   ]
  },
  {
   "cell_type": "code",
   "execution_count": 25,
   "metadata": {},
   "outputs": [
    {
     "data": {
      "image/png": "[encoded data removed]",
      "text/plain": [
       "<IPython.core.display.Image object>"
      ]
     },
     "metadata": {},
     "output_type": "display_data"
    }
   ],
   "source": [
    "img_output, _ = run_asy_file(\"output.asy\")\n",
    "display(img_output)"
   ]
  },
  {
   "cell_type": "code",
   "execution_count": 28,
   "metadata": {},
   "outputs": [
    {
     "ename": "error",
     "evalue": "OpenCV(4.4.0) /private/var/folders/nz/vv4_9tw56nv9k3tkvyszvwg80000gn/T/pip-req-build-ucld1hvm/opencv/modules/imgproc/src/canny.cpp:829: error: (-215:Assertion failed) _src.depth() == CV_8U in function 'Canny'\n",
     "output_type": "error",
     "traceback": [
      "\u001b[0;31m---------------------------------------------------------------------------\u001b[0m",
      "\u001b[0;31merror\u001b[0m                                     Traceback (most recent call last)",
      "\u001b[0;32m<ipython-input-28-af513247e5e8>\u001b[0m in \u001b[0;36m<module>\u001b[0;34m\u001b[0m\n\u001b[0;32m----> 1\u001b[0;31m \u001b[0medges\u001b[0m \u001b[0;34m=\u001b[0m \u001b[0mcv2\u001b[0m\u001b[0;34m.\u001b[0m\u001b[0mCanny\u001b[0m\u001b[0;34m(\u001b[0m\u001b[0mimg\u001b[0m\u001b[0;34m,\u001b[0m\u001b[0;36m100\u001b[0m\u001b[0;34m,\u001b[0m\u001b[0;36m200\u001b[0m\u001b[0;34m)\u001b[0m\u001b[0;34m\u001b[0m\u001b[0;34m\u001b[0m\u001b[0m\n\u001b[0m\u001b[1;32m      2\u001b[0m \u001b[0mprint\u001b[0m\u001b[0;34m(\u001b[0m\u001b[0medges\u001b[0m\u001b[0;34m)\u001b[0m\u001b[0;34m\u001b[0m\u001b[0;34m\u001b[0m\u001b[0m\n",
      "\u001b[0;31merror\u001b[0m: OpenCV(4.4.0) /private/var/folders/nz/vv4_9tw56nv9k3tkvyszvwg80000gn/T/pip-req-build-ucld1hvm/opencv/modules/imgproc/src/canny.cpp:829: error: (-215:Assertion failed) _src.depth() == CV_8U in function 'Canny'\n"
     ]
    }
   ],
   "source": []
  },
  {
   "cell_type": "code",
   "execution_count": null,
   "metadata": {},
   "outputs": [],
   "source": []
  }
 ],
 "metadata": {
  "kernelspec": {
   "display_name": "Python 3",
   "language": "python",
   "name": "python3"
  },
  "language_info": {
   "codemirror_mode": {
    "name": "ipython",
    "version": 3
   },
   "file_extension": ".py",
   "mimetype": "text/x-python",
   "name": "python",
   "nbconvert_exporter": "python",
   "pygments_lexer": "ipython3",
   "version": "3.7.6"
  }
 },
 "nbformat": 4,
 "nbformat_minor": 2
}
