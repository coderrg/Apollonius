{
 "cells": [
  {
   "cell_type": "code",
   "execution_count": 1,
   "metadata": {},
   "outputs": [],
   "source": [
    "%matplotlib inline\n",
    "import numpy as np\n",
    "import cv2\n",
    "from matplotlib import pyplot as plt"
   ]
  },
  {
   "cell_type": "code",
   "execution_count": 2,
   "metadata": {},
   "outputs": [
    {
     "data": {
      "image/png": "[encoded data removed]",
      "text/plain": [
       "<Figure size 432x288 with 1 Axes>"
      ]
     },
     "metadata": {
      "needs_background": "light"
     },
     "output_type": "display_data"
    }
   ],
   "source": [
    "img = cv2.imread('tests/001.jpg', 0)\n",
    "img = img[100:400, 100:400]\n",
    "\n",
    "rows = img.shape[0]\n",
    "cols = img.shape[1]\n",
    "\n",
    "minPixel = np.amin(img)\n",
    "maxPixel = np.amax(img)\n",
    "\n",
    "plt.imshow(img, cmap='gray')\n",
    "plt.show()"
   ]
  },
  {
   "cell_type": "code",
   "execution_count": 3,
   "metadata": {},
   "outputs": [],
   "source": [
    "# MinMax Scaler\n",
    "img = (img - minPixel) / (maxPixel - minPixel)"
   ]
  },
  {
   "cell_type": "code",
   "execution_count": 4,
   "metadata": {},
   "outputs": [
    {
     "name": "stdout",
     "output_type": "stream",
     "text": [
      "(300, 300)\n"
     ]
    }
   ],
   "source": [
    "visited = np.array([[False for i in range (cols)] for j in range (rows)])\n",
    "print(visited.shape)"
   ]
  },
  {
   "cell_type": "code",
   "execution_count": 5,
   "metadata": {},
   "outputs": [],
   "source": [
    "from collections import deque  \n",
    "\n",
    "def bfs(img, visited, lines, row, col, threshold):\n",
    "    queue = deque([(row,col)])\n",
    "    while (queue):\n",
    "        i, j = queue.popleft()\n",
    "        visited[i][j] = True\n",
    "        for horizontal in [-1, 0, 1]:\n",
    "            for vertical in [-1, 0, 1]:\n",
    "                if ((i + horizontal >= 0 and i + horizontal < rows) and (j + vertical >= 0 and j + vertical < cols) and img[i + horizontal][j + vertical] <= threshold and not visited[i + horizontal][j + vertical]):\n",
    "                    lines.append([(j, rows - i),(j + vertical, rows - (i + horizontal))])\n",
    "                    queue.append((i + horizontal, j + vertical))\n",
    "                    visited[i + horizontal][j + vertical] = True\n",
    "                    "
   ]
  },
  {
   "cell_type": "code",
   "execution_count": 6,
   "metadata": {},
   "outputs": [],
   "source": [
    "def dfs(img, visited, lines, i, j, threshold):\n",
    "    visited[i][j] = True\n",
    "    for horizontal in [-1, 0, 1]:\n",
    "        for vertical in [-1, 0, 1]:\n",
    "            if ((horizontal or vertical) and (i + horizontal >= 0 and i + horizontal < rows) and (j + vertical >= 0 and j + vertical < cols) and img[i + horizontal][j + vertical] <= threshold and not visited[i + horizontal][j + vertical]):\n",
    "                lines.append([(j, rows - i),(j + vertical, rows - (i + horizontal))])\n",
    "                dfs(img, visited, lines, i + horizontal, j + vertical, threshold)"
   ]
  },
  {
   "cell_type": "code",
   "execution_count": 7,
   "metadata": {},
   "outputs": [],
   "source": [
    "threshold = 0.05\n",
    "lines = []\n",
    "for i in range (rows):\n",
    "    for j in range (cols):\n",
    "        if (not visited[i][j] and img[i][j] <= threshold):\n",
    "            bfs(img, visited, lines, i, j, threshold)\n",
    "        visited[i][j] = True"
   ]
  },
  {
   "cell_type": "code",
   "execution_count": 8,
   "metadata": {},
   "outputs": [],
   "source": [
    "output = \"\"\n",
    "for line in lines:\n",
    "    output += \"draw(\" + str(line[0]) + \"--\" + str(line[1]) + \");\\n\"\n"
   ]
  },
  {
   "cell_type": "code",
   "execution_count": 9,
   "metadata": {},
   "outputs": [],
   "source": [
    "f = open(\"output.asy\", \"w\")\n",
    "f.write(output)\n",
    "f.close()"
   ]
  },
  {
   "cell_type": "code",
   "execution_count": 10,
   "metadata": {},
   "outputs": [],
   "source": [
    "# Code in this block was taken from: https://github.com/azjps/ipython-asymptote\n",
    "import os\n",
    "import subprocess\n",
    "from IPython.display import Image, SVG\n",
    "\n",
    "class AsymptoteException(RuntimeError):\n",
    "    \"\"\"\n",
    "    Simple wrapper class for wrapping Asymptote\n",
    "    interpreter error messages in a stack trace.\n",
    "    \"\"\"\n",
    "    \n",
    "    def __init__(self, asy_err_msg):\n",
    "        self.asy_err_msg = asy_err_msg\n",
    "        \n",
    "    def __str__(self):\n",
    "        return str(self.asy_err_msg)\n",
    "\n",
    "def run_asy_file(asy_file, img_file=None, fmt=\"png\"):\n",
    "    \"\"\"Runs asymptote code located in asy_file and writes to\n",
    "    img_file if specified, otherwise use's asymptote's default\n",
    "    output location. Returns tuple (IPython.display, stdout).\n",
    "    \"\"\"\n",
    "    if not os.path.exists(asy_file):\n",
    "        raise IOError(\"File not found: \" + asy_file)\n",
    "    if img_file is None:\n",
    "        img_file = asy_file[:-3] + fmt\n",
    "          \n",
    "    asy_proc = subprocess.Popen([\"asy\", \"-noView\", \"-f\", fmt,\n",
    "                                 \"-o\", img_file, asy_file],\n",
    "                                stdout=subprocess.PIPE,\n",
    "                                stderr=subprocess.PIPE)\n",
    "    asy_ret_code = asy_proc.wait()\n",
    "    if asy_ret_code != 0:\n",
    "        raise AsymptoteException(asy_proc.stderr.read())\n",
    "        \n",
    "    asy_stdout = asy_proc.stdout.read()\n",
    "    \n",
    "    if fmt == \"svg\":\n",
    "        return SVG(filename=img_file), asy_stdout\n",
    "    return Image(filename=img_file), asy_stdout"
   ]
  },
  {
   "cell_type": "code",
   "execution_count": 11,
   "metadata": {},
   "outputs": [
    {
     "ename": "NameError",
     "evalue": "name 'subprocess' is not defined",
     "output_type": "error",
     "traceback": [
      "\u001b[0;31m---------------------------------------------------------------------------\u001b[0m",
      "\u001b[0;31mNameError\u001b[0m                                 Traceback (most recent call last)",
      "\u001b[0;32m<ipython-input-11-c5c2c0338705>\u001b[0m in \u001b[0;36m<module>\u001b[0;34m\u001b[0m\n\u001b[0;32m----> 1\u001b[0;31m \u001b[0mimg_output\u001b[0m\u001b[0;34m,\u001b[0m \u001b[0m_\u001b[0m \u001b[0;34m=\u001b[0m \u001b[0mrun_asy_file\u001b[0m\u001b[0;34m(\u001b[0m\u001b[0;34m\"output.asy\"\u001b[0m\u001b[0;34m)\u001b[0m\u001b[0;34m\u001b[0m\u001b[0;34m\u001b[0m\u001b[0m\n\u001b[0m\u001b[1;32m      2\u001b[0m \u001b[0mdisplay\u001b[0m\u001b[0;34m(\u001b[0m\u001b[0mimg_output\u001b[0m\u001b[0;34m)\u001b[0m\u001b[0;34m\u001b[0m\u001b[0;34m\u001b[0m\u001b[0m\n",
      "\u001b[0;32m<ipython-input-10-c503e7ba04b6>\u001b[0m in \u001b[0;36mrun_asy_file\u001b[0;34m(asy_file, img_file, fmt)\u001b[0m\n\u001b[1;32m     31\u001b[0m         \u001b[0mimg_file\u001b[0m \u001b[0;34m=\u001b[0m \u001b[0masy_file\u001b[0m\u001b[0;34m[\u001b[0m\u001b[0;34m:\u001b[0m\u001b[0;34m-\u001b[0m\u001b[0;36m3\u001b[0m\u001b[0;34m]\u001b[0m \u001b[0;34m+\u001b[0m \u001b[0mfmt\u001b[0m\u001b[0;34m\u001b[0m\u001b[0;34m\u001b[0m\u001b[0m\n\u001b[1;32m     32\u001b[0m \u001b[0;34m\u001b[0m\u001b[0m\n\u001b[0;32m---> 33\u001b[0;31m     asy_proc = subprocess.Popen([\"asy\", \"-noView\", \"-f\", fmt,\n\u001b[0m\u001b[1;32m     34\u001b[0m                                  \"-o\", img_file, asy_file],\n\u001b[1;32m     35\u001b[0m                                 \u001b[0mstdout\u001b[0m\u001b[0;34m=\u001b[0m\u001b[0msubprocess\u001b[0m\u001b[0;34m.\u001b[0m\u001b[0mPIPE\u001b[0m\u001b[0;34m,\u001b[0m\u001b[0;34m\u001b[0m\u001b[0;34m\u001b[0m\u001b[0m\n",
      "\u001b[0;31mNameError\u001b[0m: name 'subprocess' is not defined"
     ]
    }
   ],
   "source": [
    "img_output, _ = run_asy_file(\"output.asy\")\n",
    "display(img_output)"
   ]
  },
  {
   "cell_type": "code",
   "execution_count": null,
   "metadata": {},
   "outputs": [],
   "source": []
  },
  {
   "cell_type": "code",
   "execution_count": null,
   "metadata": {},
   "outputs": [],
   "source": []
  }
 ],
 "metadata": {
  "kernelspec": {
   "display_name": "Python 3",
   "language": "python",
   "name": "python3"
  },
  "language_info": {
   "codemirror_mode": {
    "name": "ipython",
    "version": 3
   },
   "file_extension": ".py",
   "mimetype": "text/x-python",
   "name": "python",
   "nbconvert_exporter": "python",
   "pygments_lexer": "ipython3",
   "version": "3.7.6"
  }
 },
 "nbformat": 4,
 "nbformat_minor": 2
}
