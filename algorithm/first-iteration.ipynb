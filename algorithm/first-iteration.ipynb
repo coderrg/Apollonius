{
 "cells": [
  {
   "cell_type": "code",
   "execution_count": 7,
   "metadata": {},
   "outputs": [],
   "source": [
    "%matplotlib inline\n",
    "import cv2 as cv\n",
    "from matplotlib import pyplot as plt"
   ]
  },
  {
   "cell_type": "code",
   "execution_count": 8,
   "metadata": {},
   "outputs": [
    {
     "data": {
      "image/png": "[encoded data removed]",
      "text/plain": [
       "<Figure size 432x288 with 1 Axes>"
      ]
     },
     "metadata": {},
     "output_type": "display_data"
    }
   ],
   "source": [
    "import cv2\n",
    "import numpy as np\n",
    "from matplotlib import pyplot as plt\n",
    "\n",
    "img = cv2.imread('tests/003.png',0)\n",
    "edges = cv2.Canny(img,100,200)\n",
    "\n",
    "plt.imshow(img,cmap = 'gray')\n",
    "plt.title('Original Image'), plt.xticks([]), plt.yticks([])\n",
    "plt.imshow(edges,cmap = 'gray')\n",
    "plt.title('Edge Image'), plt.xticks([]), plt.yticks([])\n",
    "cv2.imwrite(\"tests/output003.jpg\", edges)\n",
    "\n",
    "plt.show()"
   ]
  },
  {
   "cell_type": "code",
   "execution_count": 10,
   "metadata": {},
   "outputs": [
    {
     "name": "stdout",
     "output_type": "stream",
     "text": [
      "[  0   0   0   0   0   0   0   0   0   0   0   0   0   0   0   0   0   0\n",
      "   0   0   0   0   0   0   0   0   0   0   0   0   0   0   0   0   0   0\n",
      "   0   0   0   0   0   0   0   0   0   0   0   0   0   0   0   0   0 241\n",
      " 248 245 246 246 246 246 246 246 246 246 246 247 246 246 246 247 246 246\n",
      " 246 246 246 246 246 245 246 246 246 246 246 246 246 246 245 246 246 246\n",
      " 246 246 246 246 246 246 246 246 246 247 246 246 246 247 246 246 246 246\n",
      " 246 245 246 246 246 246 246 246 246 246 246 246 246 246 246 246 246 246\n",
      " 246 246 246 246 246 246 246 247 246 246 246 247 246 246 246 246 245 246\n",
      " 246 246 246 246 246 246 246 245 246 246 246 246 246 247 248 246 242 244\n",
      " 247 247 226 231 235 237 221 231 234 232 234 235 235 235 237 235 232 236\n",
      " 220 179 217 222 185 187 202 207 218 222 214 225 222 229 225 220 228 225\n",
      " 222 220 221 222 222 219 216 213 214 219 218 225 225 224 225 226 225 226\n",
      " 226 224 226 226 225 226 228 225 228 228 227 228 226 227 229  98  81 107\n",
      " 221  76  68 156 230 227 219 218 214 211 209 218 223 219 217 221 222 224\n",
      " 227 230 230 230 232 228 230 230 227 229 224 225 226 222 224 225 222 224\n",
      " 222 227 224 224 224 226 221 225 224 225 227 230 229 227 232 231 230 231\n",
      " 234 229 228 229 226 225 221 224 224 222 222 210 223 227 226 210 232 237\n",
      " 237 237 237 237 237 236 236 236 237 237 237 237 236 234 234 234 234 234\n",
      " 234 234 234 233 234 234 234 234 234 234 234 235 234 234 233 235 234 234\n",
      " 234 234 234 234 234 232 228 231 234 234 232 229 227 224 226 221 223 226\n",
      " 224 226 225 226 223 221 226 224 234 231 230 230 234 235 234 234 234 234\n",
      " 234 234 233 234 234 234 234 235 234 237 238 238 237 235 236 233 234 230\n",
      " 231 235 237 236 237 237 236 238 237 238 238 239 237 237 236 237 237 237\n",
      " 234 233 233 234 232 232 232 234 232 233 236 237 236 235 235 235 237 234\n",
      " 233 239 236 238 236 237 239 235 239 236 237 238 236 237 237 234 238 234\n",
      " 237 235 238 235 237 235 238 235 234 234 234 236 236 234 234 240 241 240\n",
      " 240 238 238 232 234 234 233 234 232 234 233 234 232 233 232 230 232 232\n",
      " 230 232 232 230 229 231 228 230 228 228 230 229 227 230 228 228 227 230\n",
      " 229 229 227 231 240 234 240 232 233 224 208 213 199 174 219 220 188 220\n",
      " 246 246 246 244 248 246 250 250 250 250 250 250 250 250 250 250 250 250\n",
      " 250 250 250 250 250 250 250 249 250 250 250 250 250 250 250 250 249 250\n",
      " 250 250 250 250 250 250 250 250 250 250 250 250 250 250 250 250 250 250\n",
      " 250 250 250 250 249 250 250 250 250 250 250 250 250 249 250 250 250 250\n",
      " 250 250 250 250 250 250 250 250 250 250 250 250 250 250 250 250 250 250\n",
      " 250 249 250 250 250 250 250 250 250 250 249 250 250 250 251 251 251 252\n",
      " 251 254 254 254 254 254 254 254 254 254 254 254 254 254 254 254 254 254\n",
      " 254 254 254 254 254 254 254 254 254 254 254 254 254 254 254]\n"
     ]
    }
   ],
   "source": [
    "print(sum(edges))"
   ]
  },
  {
   "cell_type": "code",
   "execution_count": null,
   "metadata": {},
   "outputs": [],
   "source": []
  },
  {
   "cell_type": "code",
   "execution_count": null,
   "metadata": {},
   "outputs": [],
   "source": []
  },
  {
   "cell_type": "code",
   "execution_count": null,
   "metadata": {
    "scrolled": true
   },
   "outputs": [],
   "source": []
  },
  {
   "cell_type": "code",
   "execution_count": null,
   "metadata": {},
   "outputs": [],
   "source": []
  }
 ],
 "metadata": {
  "kernelspec": {
   "display_name": "Python 3",
   "language": "python",
   "name": "python3"
  },
  "language_info": {
   "codemirror_mode": {
    "name": "ipython",
    "version": 3
   },
   "file_extension": ".py",
   "mimetype": "text/x-python",
   "name": "python",
   "nbconvert_exporter": "python",
   "pygments_lexer": "ipython3",
   "version": "3.7.6"
  }
 },
 "nbformat": 4,
 "nbformat_minor": 2
}
