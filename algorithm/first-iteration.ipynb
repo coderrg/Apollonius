{
 "cells": [
  {
   "cell_type": "code",
   "execution_count": 48,
   "metadata": {},
   "outputs": [],
   "source": [
    "%matplotlib inline\n",
    "import numpy as np\n",
    "import cv2\n",
    "from matplotlib import pyplot as plt"
   ]
  },
  {
   "cell_type": "code",
   "execution_count": 49,
   "metadata": {},
   "outputs": [
    {
     "data": {
      "image/png": "[encoded data removed]",
      "text/plain": [
       "<Figure size 432x288 with 1 Axes>"
      ]
     },
     "metadata": {
      "needs_background": "light"
     },
     "output_type": "display_data"
    }
   ],
   "source": [
    "img = cv2.imread('tests/001.jpg', 0)\n",
    "#img = img[200:350, 200:350]\n",
    "\n",
    "rows = img.shape[0]\n",
    "cols = img.shape[1]\n",
    "\n",
    "minPixel = np.amin(img)\n",
    "maxPixel = np.amax(img)\n",
    "\n",
    "plt.imshow(img, cmap='gray')\n",
    "plt.show()"
   ]
  },
  {
   "cell_type": "code",
   "execution_count": 50,
   "metadata": {},
   "outputs": [],
   "source": [
    "# MinMax Scaler\n",
    "img = (img - minPixel) / (maxPixel - minPixel)"
   ]
  },
  {
   "cell_type": "code",
   "execution_count": 51,
   "metadata": {},
   "outputs": [
    {
     "name": "stdout",
     "output_type": "stream",
     "text": [
      "(684, 1037)\n"
     ]
    }
   ],
   "source": [
    "visited = np.array([[False for i in range (cols)] for j in range (rows)])\n",
    "print(visited.shape)"
   ]
  },
  {
   "cell_type": "code",
   "execution_count": 52,
   "metadata": {},
   "outputs": [],
   "source": [
    "from collections import deque  \n",
    "\n",
    "def bfs(img, visited, lines, row, col, threshold):\n",
    "    queue = deque([(row,col)])\n",
    "    while (queue):\n",
    "        i, j = queue.popleft()\n",
    "        visited[i][j] = True\n",
    "        for horizontal in [-2, 0, 2]:\n",
    "            for vertical in [-2, 0, 2]:\n",
    "                if ((i + horizontal >= 0 and i + horizontal < rows) and (j + vertical >= 0 and j + vertical < cols) and img[i + horizontal][j + vertical] <= threshold and not visited[i + horizontal][j + vertical]):\n",
    "                    lines.append([(j, rows - i),(j + vertical, rows - (i + horizontal))])\n",
    "                    queue.append((i + horizontal, j + vertical))\n",
    "                    visited[i + horizontal][j + vertical] = True\n",
    "                    "
   ]
  },
  {
   "cell_type": "code",
   "execution_count": 53,
   "metadata": {},
   "outputs": [],
   "source": [
    "def dfs(img, visited, lines, i, j, threshold):\n",
    "    visited[i][j] = True\n",
    "    for horizontal in [-1, 0, 1]:\n",
    "        for vertical in [-1, 0, 1]:\n",
    "            if ((horizontal or vertical) and (i + horizontal >= 0 and i + horizontal < rows) and (j + vertical >= 0 and j + vertical < cols) and img[i + horizontal][j + vertical] <= threshold and not visited[i + horizontal][j + vertical]):\n",
    "                lines.append([(j, rows - i),(j + vertical, rows - (i + horizontal))])\n",
    "                dfs(img, visited, lines, i + horizontal, j + vertical, threshold)"
   ]
  },
  {
   "cell_type": "code",
   "execution_count": 54,
   "metadata": {},
   "outputs": [],
   "source": [
    "threshold = 0.05\n",
    "lines = []\n",
    "for i in range (rows):\n",
    "    for j in range (cols):\n",
    "        if (not visited[i][j] and img[i][j] <= threshold):\n",
    "            bfs(img, visited, lines, i, j, threshold)\n",
    "        visited[i][j] = True"
   ]
  },
  {
   "cell_type": "code",
   "execution_count": 55,
   "metadata": {},
   "outputs": [],
   "source": [
    "output = \"\"\n",
    "output += \"[asy]\\n\"\n",
    "for line in lines:\n",
    "    output += \"draw(\" + str(line[0]) + \"--\" + str(line[1]) + \");\\n\"\n",
    "output += \"[/asy]\""
   ]
  },
  {
   "cell_type": "code",
   "execution_count": 56,
   "metadata": {},
   "outputs": [],
   "source": [
    "f = open(\"asymptote.txt\", \"w\")\n",
    "f.write(output)\n",
    "f.close()"
   ]
  },
  {
   "cell_type": "code",
   "execution_count": null,
   "metadata": {},
   "outputs": [],
   "source": []
  }
 ],
 "metadata": {
  "kernelspec": {
   "display_name": "Python 3",
   "language": "python",
   "name": "python3"
  },
  "language_info": {
   "codemirror_mode": {
    "name": "ipython",
    "version": 3
   },
   "file_extension": ".py",
   "mimetype": "text/x-python",
   "name": "python",
   "nbconvert_exporter": "python",
   "pygments_lexer": "ipython3",
   "version": "3.7.4"
  }
 },
 "nbformat": 4,
 "nbformat_minor": 2
}
